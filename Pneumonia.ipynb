{
 "cells": [
  {
   "cell_type": "code",
   "execution_count": 15,
   "id": "initial_id",
   "metadata": {
    "collapsed": true,
    "ExecuteTime": {
     "end_time": "2023-10-24T23:12:11.036582800Z",
     "start_time": "2023-10-24T23:12:11.021581100Z"
    }
   },
   "outputs": [],
   "source": [
    "import cv2\n",
    "from tensorflow import *\n",
    "import numpy as np\n",
    "import matplotlib.pyplot as plt\n",
    "from keras.preprocessing.image import ImageDataGenerator\n",
    "from keras.metrics import Accuracy, Precision, Recall, F1Score\n",
    "from keras import callbacks, layers, metrics, models, optimizers, regularizers\n",
    "from keras.models import Sequential\n",
    "from keras.layers import Dense, Conv2D, MaxPooling2D, Flatten, Dropout, BatchNormalization\n",
    "from keras.callbacks import ModelCheckpoint, EarlyStopping\n",
    "import keras.utils as image"
   ]
  },
  {
   "cell_type": "code",
   "execution_count": 2,
   "outputs": [
    {
     "name": "stdout",
     "output_type": "stream",
     "text": [
      "Found 5216 images belonging to 2 classes.\n",
      "Found 624 images belonging to 2 classes.\n",
      "Found 16 images belonging to 2 classes.\n",
      "(32, 128, 128, 1)\r\n",
      "(32,)\r\n"
     ]
    }
   ],
   "source": [
    "train_path = \"archive/chest_xray/train\"\n",
    "val_path = \"archive/chest_xray/val\"\n",
    "test_path = \"archive/chest_xray/test\"\n",
    "\n",
    "batch_size = 32\n",
    "\n",
    "train_datagen = ImageDataGenerator(\n",
    "    rescale=1./255,\n",
    "    rotation_range=40,\n",
    "    width_shift_range=0.2,\n",
    "    height_shift_range=0.2,\n",
    "    shear_range=0.2,\n",
    "    zoom_range=0.2,\n",
    "    horizontal_flip=True,\n",
    "    fill_mode='nearest',\n",
    ")\n",
    "\n",
    "validation_datagen = ImageDataGenerator(\n",
    "    rescale = 1./255\n",
    ")\n",
    "\n",
    "test_datagen = ImageDataGenerator(\n",
    "    rescale = 1./255\n",
    ")\n",
    "\n",
    "train_generator = train_datagen.flow_from_directory(\n",
    "    train_path,\n",
    "    target_size = (128, 128),\n",
    "    batch_size = batch_size,\n",
    "    class_mode = \"binary\",\n",
    "    color_mode = \"grayscale\"\n",
    ")\n",
    "\n",
    "validation_generator = validation_datagen.flow_from_directory(\n",
    "    val_path,\n",
    "    target_size = (128, 128),\n",
    "    batch_size = batch_size,\n",
    "    class_mode = \"binary\",\n",
    "    color_mode = \"grayscale\"\n",
    ")\n",
    "\n",
    "test_generator = test_datagen.flow_from_directory(\n",
    "    test_path,\n",
    "    target_size = (128, 128),\n",
    "    batch_size = batch_size,\n",
    "    class_mode = \"binary\",\n",
    "    color_mode = \"grayscale\"\n",
    ")\n",
    "\n",
    "train_num = train_generator.samples\n",
    "val_num = validation_generator.samples\n",
    "\n",
    "for image, label in train_generator:\n",
    "    print(image.shape)\n",
    "    print(label.shape)\n",
    "    break"
   ],
   "metadata": {
    "collapsed": false,
    "ExecuteTime": {
     "end_time": "2023-10-24T22:44:34.675591300Z",
     "start_time": "2023-10-24T22:44:33.528596900Z"
    }
   },
   "id": "aa8800876367daf4"
  },
  {
   "cell_type": "code",
   "execution_count": 21,
   "outputs": [
    {
     "name": "stdout",
     "output_type": "stream",
     "text": [
      "Model: \"sequential_8\"\n",
      "_________________________________________________________________\n",
      " Layer (type)                Output Shape              Param #   \n",
      "=================================================================\n",
      " conv2d_32 (Conv2D)          (None, 126, 126, 128)     1280      \n",
      "                                                                 \n",
      " max_pooling2d_32 (MaxPooli  (None, 63, 63, 128)       0         \n",
      " ng2D)                                                           \n",
      "                                                                 \n",
      " dropout_16 (Dropout)        (None, 63, 63, 128)       0         \n",
      "                                                                 \n",
      " batch_normalization_24 (Ba  (None, 63, 63, 128)       512       \n",
      " tchNormalization)                                               \n",
      "                                                                 \n",
      " conv2d_33 (Conv2D)          (None, 61, 61, 64)        73792     \n",
      "                                                                 \n",
      " max_pooling2d_33 (MaxPooli  (None, 30, 30, 64)        0         \n",
      " ng2D)                                                           \n",
      "                                                                 \n",
      " batch_normalization_25 (Ba  (None, 30, 30, 64)        256       \n",
      " tchNormalization)                                               \n",
      "                                                                 \n",
      " conv2d_34 (Conv2D)          (None, 28, 28, 32)        18464     \n",
      "                                                                 \n",
      " max_pooling2d_34 (MaxPooli  (None, 14, 14, 32)        0         \n",
      " ng2D)                                                           \n",
      "                                                                 \n",
      " batch_normalization_26 (Ba  (None, 14, 14, 32)        128       \n",
      " tchNormalization)                                               \n",
      "                                                                 \n",
      " conv2d_35 (Conv2D)          (None, 12, 12, 16)        4624      \n",
      "                                                                 \n",
      " max_pooling2d_35 (MaxPooli  (None, 6, 6, 16)          0         \n",
      " ng2D)                                                           \n",
      "                                                                 \n",
      " flatten_8 (Flatten)         (None, 576)               0         \n",
      "                                                                 \n",
      " dropout_17 (Dropout)        (None, 576)               0         \n",
      "                                                                 \n",
      " dense_16 (Dense)            (None, 128)               73856     \n",
      "                                                                 \n",
      " dense_17 (Dense)            (None, 1)                 129       \n",
      "                                                                 \n",
      "=================================================================\n",
      "Total params: 173041 (675.94 KB)\n",
      "Trainable params: 172593 (674.19 KB)\n",
      "Non-trainable params: 448 (1.75 KB)\n",
      "_________________________________________________________________\n"
     ]
    }
   ],
   "source": [
    "model = Sequential()\n",
    "\n",
    "model.add(Conv2D(128, (3, 3), activation = \"relu\", input_shape = (128, 128, 1)))\n",
    "model.add(MaxPooling2D((2, 2)))\n",
    "\n",
    "model.add(Dropout(0.5))\n",
    "model.add(BatchNormalization())\n",
    "model.add(Conv2D(64, (3, 3), activation = \"relu\"))\n",
    "model.add(MaxPooling2D((2, 2)))\n",
    "\n",
    "model.add(BatchNormalization())\n",
    "model.add(Conv2D(32, (3, 3), activation = \"relu\"))\n",
    "model.add(MaxPooling2D((2, 2)))\n",
    "\n",
    "model.add(BatchNormalization())\n",
    "model.add(Conv2D(16, (3, 3), activation = \"relu\"))\n",
    "model.add(MaxPooling2D((2, 2)))\n",
    "\n",
    "model.add(Flatten())\n",
    "model.add(Dropout(0.5))\n",
    "model.add(Dense(128, activation = \"relu\"))\n",
    "model.add(Dense(1, activation = \"sigmoid\"))\n",
    "\n",
    "model.compile(\n",
    "    optimizer = \"adam\",\n",
    "    loss = \"binary_crossentropy\",\n",
    "    metrics = [Accuracy(), Precision(), F1Score()]\n",
    ")\n",
    "\n",
    "model.summary()"
   ],
   "metadata": {
    "collapsed": false,
    "ExecuteTime": {
     "end_time": "2023-10-24T23:23:50.134548800Z",
     "start_time": "2023-10-24T23:23:49.941843600Z"
    }
   },
   "id": "b67bce8be39b32d6"
  },
  {
   "cell_type": "code",
   "execution_count": null,
   "outputs": [
    {
     "name": "stdout",
     "output_type": "stream",
     "text": [
      "Epoch 1/100\n",
      "163/163 [==============================] - ETA: 0s - loss: 0.2940 - acc: 0.8677 - precision_2: 0.9086 - f1_score: 0.8525\n",
      "Epoch 1: val_acc improved from -inf to 0.62500, saving model to Weights\\weights.h5\n",
      "163/163 [==============================] - 148s 907ms/step - loss: 0.2940 - acc: 0.8677 - precision_2: 0.9086 - f1_score: 0.8525 - val_loss: 8.3673 - val_acc: 0.6250 - val_precision_2: 0.6250 - val_f1_score: 0.7692\n",
      "Epoch 2/100\n",
      "163/163 [==============================] - ETA: 0s - loss: 0.2951 - acc: 0.8685 - precision_2: 0.9119 - f1_score: 0.8525\n",
      "Epoch 2: val_acc did not improve from 0.62500\n",
      "163/163 [==============================] - 148s 907ms/step - loss: 0.2951 - acc: 0.8685 - precision_2: 0.9119 - f1_score: 0.8525 - val_loss: 6.7325 - val_acc: 0.6250 - val_precision_2: 0.6250 - val_f1_score: 0.7692\n",
      "Epoch 3/100\n",
      "163/163 [==============================] - ETA: 0s - loss: 0.2693 - acc: 0.8844 - precision_2: 0.9206 - f1_score: 0.8525\n",
      "Epoch 3: val_acc did not improve from 0.62500\n",
      "163/163 [==============================] - 154s 943ms/step - loss: 0.2693 - acc: 0.8844 - precision_2: 0.9206 - f1_score: 0.8525 - val_loss: 10.8837 - val_acc: 0.6250 - val_precision_2: 0.6250 - val_f1_score: 0.7692\n",
      "Epoch 4/100\n",
      "163/163 [==============================] - ETA: 0s - loss: 0.2688 - acc: 0.8821 - precision_2: 0.9169 - f1_score: 0.8525\n",
      "Epoch 4: val_acc did not improve from 0.62500\n",
      "163/163 [==============================] - 147s 903ms/step - loss: 0.2688 - acc: 0.8821 - precision_2: 0.9169 - f1_score: 0.8525 - val_loss: 16.1433 - val_acc: 0.6250 - val_precision_2: 0.6250 - val_f1_score: 0.7692\n",
      "Epoch 5/100\n",
      "163/163 [==============================] - ETA: 0s - loss: 0.2584 - acc: 0.8894 - precision_2: 0.9235 - f1_score: 0.8525\n",
      "Epoch 5: val_acc did not improve from 0.62500\n",
      "163/163 [==============================] - 154s 947ms/step - loss: 0.2584 - acc: 0.8894 - precision_2: 0.9235 - f1_score: 0.8525 - val_loss: 2.5095 - val_acc: 0.6250 - val_precision_2: 0.6250 - val_f1_score: 0.7692\n",
      "Epoch 6/100\n",
      "163/163 [==============================] - ETA: 0s - loss: 0.2564 - acc: 0.8919 - precision_2: 0.9224 - f1_score: 0.8525\n",
      "Epoch 6: val_acc improved from 0.62500 to 0.62981, saving model to Weights\\weights.h5\n",
      "163/163 [==============================] - 152s 931ms/step - loss: 0.2564 - acc: 0.8919 - precision_2: 0.9224 - f1_score: 0.8525 - val_loss: 0.8667 - val_acc: 0.6298 - val_precision_2: 0.6280 - val_f1_score: 0.7692\n",
      "Epoch 7/100\n",
      "163/163 [==============================] - ETA: 0s - loss: 0.2462 - acc: 0.8926 - precision_2: 0.9264 - f1_score: 0.8525\n",
      "Epoch 7: val_acc improved from 0.62981 to 0.76763, saving model to Weights\\weights.h5\n",
      "163/163 [==============================] - 153s 940ms/step - loss: 0.2462 - acc: 0.8926 - precision_2: 0.9264 - f1_score: 0.8525 - val_loss: 0.5002 - val_acc: 0.7676 - val_precision_2: 0.8375 - val_f1_score: 0.7692\n",
      "Epoch 8/100\n",
      "163/163 [==============================] - ETA: 0s - loss: 0.2355 - acc: 0.9009 - precision_2: 0.9301 - f1_score: 0.8525\n",
      "Epoch 8: val_acc did not improve from 0.76763\n",
      "163/163 [==============================] - 152s 931ms/step - loss: 0.2355 - acc: 0.9009 - precision_2: 0.9301 - f1_score: 0.8525 - val_loss: 2.1363 - val_acc: 0.6250 - val_precision_2: 0.6250 - val_f1_score: 0.7692\n",
      "Epoch 9/100\n",
      " 98/163 [=================>............] - ETA: 9:41 - loss: 0.2455 - acc: 0.8941 - precision_2: 0.9254 - f1_score: 0.8544"
     ]
    }
   ],
   "source": [
    "epochs = 100\n",
    "\n",
    "filepath = \"Weights/weights.h5\"\n",
    "\n",
    "callbacks_list = [\n",
    "    EarlyStopping(\n",
    "        monitor = \"val_acc\",\n",
    "        patience = 25\n",
    "    ),\n",
    "    ModelCheckpoint(\n",
    "        filepath,\n",
    "        monitor = \"val_acc\",\n",
    "        verbose = 1,\n",
    "        save_best_only = True,\n",
    "        mode = 'max'\n",
    "    )\n",
    "]\n",
    "\n",
    "history = model.fit(\n",
    "    train_generator,\n",
    "    steps_per_epoch = train_num / batch_size,\n",
    "    epochs = epochs,\n",
    "    validation_data = validation_generator,\n",
    "    validation_steps = val_num / batch_size,\n",
    "    callbacks = callbacks_list\n",
    ")"
   ],
   "metadata": {
    "collapsed": false,
    "is_executing": true,
    "ExecuteTime": {
     "start_time": "2023-10-24T23:27:42.339213200Z"
    }
   },
   "id": "1088161ebd7c6f0d"
  },
  {
   "cell_type": "code",
   "execution_count": null,
   "outputs": [],
   "source": [
    "acc = history.history[\"acc\"]\n",
    "val_acc = history.history[\"val_acc\"]\n",
    "loss = history.history[\"loss\"]\n",
    "val_loss = history.history[\"val_loss\"]\n",
    "epochs = range(1, len(acc) + 1)\n",
    "\n",
    "plt.plot(epochs, loss, label = \"Training loss\")\n",
    "plt.plot(epochs, val_loss, label = \"Validation loss\")\n",
    "plt.legend()\n",
    "plt.figure()\n",
    "\n",
    "plt.plot(epochs, acc, label = \"Training accuracy\")\n",
    "plt.plot(epochs, val_acc, label = \"Validation accuracy\")\n",
    "plt.legend()\n",
    "plt.figure()"
   ],
   "metadata": {
    "collapsed": false,
    "ExecuteTime": {
     "start_time": "2023-10-24T22:48:23.078925200Z"
    }
   },
   "id": "5e3979bf5b6157b"
  },
  {
   "cell_type": "code",
   "execution_count": null,
   "outputs": [],
   "source": [],
   "metadata": {
    "collapsed": false,
    "ExecuteTime": {
     "end_time": "2023-10-24T22:48:23.086928100Z",
     "start_time": "2023-10-24T22:48:23.080932300Z"
    }
   },
   "id": "3dae5afc4c409ee5"
  }
 ],
 "metadata": {
  "kernelspec": {
   "display_name": "Python 3",
   "language": "python",
   "name": "python3"
  },
  "language_info": {
   "codemirror_mode": {
    "name": "ipython",
    "version": 2
   },
   "file_extension": ".py",
   "mimetype": "text/x-python",
   "name": "python",
   "nbconvert_exporter": "python",
   "pygments_lexer": "ipython2",
   "version": "2.7.6"
  }
 },
 "nbformat": 4,
 "nbformat_minor": 5
}
