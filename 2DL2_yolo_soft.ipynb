{
  "nbformat": 4,
  "nbformat_minor": 0,
  "metadata": {
    "colab": {
      "provenance": [],
      "gpuType": "T4"
    },
    "kernelspec": {
      "name": "python3",
      "display_name": "Python 3"
    },
    "language_info": {
      "name": "python"
    },
    "accelerator": "GPU"
  },
  "cells": [
    {
      "cell_type": "code",
      "source": [
        "import cv2\n",
        "from google.colab.patches import cv2_imshow\n",
        "import glob\n",
        "import numpy as np"
      ],
      "metadata": {
        "id": "Ic3gk6UmsmL3"
      },
      "execution_count": null,
      "outputs": []
    },
    {
      "cell_type": "code",
      "source": [
        "import locale\n",
        "locale.getpreferredencoding = lambda: \"UTF-8\""
      ],
      "metadata": {
        "id": "eu_r0kX78Psv"
      },
      "execution_count": 13,
      "outputs": []
    },
    {
      "cell_type": "code",
      "execution_count": 25,
      "metadata": {
        "colab": {
          "base_uri": "https://localhost:8080/"
        },
        "id": "9gAqeOp1sVeK",
        "outputId": "7778cf7d-8fa9-4388-cb03-d9c48df643aa"
      },
      "outputs": [
        {
          "output_type": "stream",
          "name": "stdout",
          "text": [
            "Requirement already satisfied: ultralytics in /usr/local/lib/python3.10/dist-packages (8.1.9)\n",
            "Requirement already satisfied: matplotlib>=3.3.0 in /usr/local/lib/python3.10/dist-packages (from ultralytics) (3.7.1)\n",
            "Requirement already satisfied: numpy>=1.22.2 in /usr/local/lib/python3.10/dist-packages (from ultralytics) (1.23.5)\n",
            "Requirement already satisfied: opencv-python>=4.6.0 in /usr/local/lib/python3.10/dist-packages (from ultralytics) (4.8.0.76)\n",
            "Requirement already satisfied: pillow>=7.1.2 in /usr/local/lib/python3.10/dist-packages (from ultralytics) (9.4.0)\n",
            "Requirement already satisfied: pyyaml>=5.3.1 in /usr/local/lib/python3.10/dist-packages (from ultralytics) (6.0.1)\n",
            "Requirement already satisfied: requests>=2.23.0 in /usr/local/lib/python3.10/dist-packages (from ultralytics) (2.31.0)\n",
            "Requirement already satisfied: scipy>=1.4.1 in /usr/local/lib/python3.10/dist-packages (from ultralytics) (1.11.4)\n",
            "Requirement already satisfied: torch>=1.8.0 in /usr/local/lib/python3.10/dist-packages (from ultralytics) (2.1.0+cu121)\n",
            "Requirement already satisfied: torchvision>=0.9.0 in /usr/local/lib/python3.10/dist-packages (from ultralytics) (0.16.0+cu121)\n",
            "Requirement already satisfied: tqdm>=4.64.0 in /usr/local/lib/python3.10/dist-packages (from ultralytics) (4.66.1)\n",
            "Requirement already satisfied: psutil in /usr/local/lib/python3.10/dist-packages (from ultralytics) (5.9.5)\n",
            "Requirement already satisfied: py-cpuinfo in /usr/local/lib/python3.10/dist-packages (from ultralytics) (9.0.0)\n",
            "Requirement already satisfied: thop>=0.1.1 in /usr/local/lib/python3.10/dist-packages (from ultralytics) (0.1.1.post2209072238)\n",
            "Requirement already satisfied: pandas>=1.1.4 in /usr/local/lib/python3.10/dist-packages (from ultralytics) (1.5.3)\n",
            "Requirement already satisfied: seaborn>=0.11.0 in /usr/local/lib/python3.10/dist-packages (from ultralytics) (0.13.1)\n",
            "Requirement already satisfied: contourpy>=1.0.1 in /usr/local/lib/python3.10/dist-packages (from matplotlib>=3.3.0->ultralytics) (1.2.0)\n",
            "Requirement already satisfied: cycler>=0.10 in /usr/local/lib/python3.10/dist-packages (from matplotlib>=3.3.0->ultralytics) (0.10.0)\n",
            "Requirement already satisfied: fonttools>=4.22.0 in /usr/local/lib/python3.10/dist-packages (from matplotlib>=3.3.0->ultralytics) (4.47.2)\n",
            "Requirement already satisfied: kiwisolver>=1.0.1 in /usr/local/lib/python3.10/dist-packages (from matplotlib>=3.3.0->ultralytics) (1.4.5)\n",
            "Requirement already satisfied: packaging>=20.0 in /usr/local/lib/python3.10/dist-packages (from matplotlib>=3.3.0->ultralytics) (23.2)\n",
            "Requirement already satisfied: pyparsing>=2.3.1 in /usr/local/lib/python3.10/dist-packages (from matplotlib>=3.3.0->ultralytics) (3.1.1)\n",
            "Requirement already satisfied: python-dateutil>=2.7 in /usr/local/lib/python3.10/dist-packages (from matplotlib>=3.3.0->ultralytics) (2.8.2)\n",
            "Requirement already satisfied: pytz>=2020.1 in /usr/local/lib/python3.10/dist-packages (from pandas>=1.1.4->ultralytics) (2023.4)\n",
            "Requirement already satisfied: charset-normalizer<4,>=2 in /usr/local/lib/python3.10/dist-packages (from requests>=2.23.0->ultralytics) (3.3.2)\n",
            "Requirement already satisfied: idna<4,>=2.5 in /usr/local/lib/python3.10/dist-packages (from requests>=2.23.0->ultralytics) (2.10)\n",
            "Requirement already satisfied: urllib3<3,>=1.21.1 in /usr/local/lib/python3.10/dist-packages (from requests>=2.23.0->ultralytics) (2.0.7)\n",
            "Requirement already satisfied: certifi>=2017.4.17 in /usr/local/lib/python3.10/dist-packages (from requests>=2.23.0->ultralytics) (2023.7.22)\n",
            "Requirement already satisfied: filelock in /usr/local/lib/python3.10/dist-packages (from torch>=1.8.0->ultralytics) (3.13.1)\n",
            "Requirement already satisfied: typing-extensions in /usr/local/lib/python3.10/dist-packages (from torch>=1.8.0->ultralytics) (4.9.0)\n",
            "Requirement already satisfied: sympy in /usr/local/lib/python3.10/dist-packages (from torch>=1.8.0->ultralytics) (1.12)\n",
            "Requirement already satisfied: networkx in /usr/local/lib/python3.10/dist-packages (from torch>=1.8.0->ultralytics) (3.2.1)\n",
            "Requirement already satisfied: jinja2 in /usr/local/lib/python3.10/dist-packages (from torch>=1.8.0->ultralytics) (3.1.3)\n",
            "Requirement already satisfied: fsspec in /usr/local/lib/python3.10/dist-packages (from torch>=1.8.0->ultralytics) (2023.6.0)\n",
            "Requirement already satisfied: triton==2.1.0 in /usr/local/lib/python3.10/dist-packages (from torch>=1.8.0->ultralytics) (2.1.0)\n",
            "Requirement already satisfied: six in /usr/local/lib/python3.10/dist-packages (from cycler>=0.10->matplotlib>=3.3.0->ultralytics) (1.16.0)\n",
            "Requirement already satisfied: MarkupSafe>=2.0 in /usr/local/lib/python3.10/dist-packages (from jinja2->torch>=1.8.0->ultralytics) (2.1.5)\n",
            "Requirement already satisfied: mpmath>=0.19 in /usr/local/lib/python3.10/dist-packages (from sympy->torch>=1.8.0->ultralytics) (1.3.0)\n",
            "Requirement already satisfied: roboflow in /usr/local/lib/python3.10/dist-packages (1.1.19)\n",
            "Requirement already satisfied: certifi==2023.7.22 in /usr/local/lib/python3.10/dist-packages (from roboflow) (2023.7.22)\n",
            "Requirement already satisfied: chardet==4.0.0 in /usr/local/lib/python3.10/dist-packages (from roboflow) (4.0.0)\n",
            "Requirement already satisfied: cycler==0.10.0 in /usr/local/lib/python3.10/dist-packages (from roboflow) (0.10.0)\n",
            "Requirement already satisfied: idna==2.10 in /usr/local/lib/python3.10/dist-packages (from roboflow) (2.10)\n",
            "Requirement already satisfied: kiwisolver>=1.3.1 in /usr/local/lib/python3.10/dist-packages (from roboflow) (1.4.5)\n",
            "Requirement already satisfied: matplotlib in /usr/local/lib/python3.10/dist-packages (from roboflow) (3.7.1)\n",
            "Requirement already satisfied: numpy>=1.18.5 in /usr/local/lib/python3.10/dist-packages (from roboflow) (1.23.5)\n",
            "Requirement already satisfied: opencv-python-headless==4.8.0.74 in /usr/local/lib/python3.10/dist-packages (from roboflow) (4.8.0.74)\n",
            "Requirement already satisfied: Pillow>=7.1.2 in /usr/local/lib/python3.10/dist-packages (from roboflow) (9.4.0)\n",
            "Requirement already satisfied: python-dateutil in /usr/local/lib/python3.10/dist-packages (from roboflow) (2.8.2)\n",
            "Requirement already satisfied: python-dotenv in /usr/local/lib/python3.10/dist-packages (from roboflow) (1.0.1)\n",
            "Requirement already satisfied: requests in /usr/local/lib/python3.10/dist-packages (from roboflow) (2.31.0)\n",
            "Requirement already satisfied: six in /usr/local/lib/python3.10/dist-packages (from roboflow) (1.16.0)\n",
            "Requirement already satisfied: supervision in /usr/local/lib/python3.10/dist-packages (from roboflow) (0.18.0)\n",
            "Requirement already satisfied: urllib3>=1.26.6 in /usr/local/lib/python3.10/dist-packages (from roboflow) (2.0.7)\n",
            "Requirement already satisfied: tqdm>=4.41.0 in /usr/local/lib/python3.10/dist-packages (from roboflow) (4.66.1)\n",
            "Requirement already satisfied: PyYAML>=5.3.1 in /usr/local/lib/python3.10/dist-packages (from roboflow) (6.0.1)\n",
            "Requirement already satisfied: requests-toolbelt in /usr/local/lib/python3.10/dist-packages (from roboflow) (1.0.0)\n",
            "Requirement already satisfied: python-magic in /usr/local/lib/python3.10/dist-packages (from roboflow) (0.4.27)\n",
            "Requirement already satisfied: contourpy>=1.0.1 in /usr/local/lib/python3.10/dist-packages (from matplotlib->roboflow) (1.2.0)\n",
            "Requirement already satisfied: fonttools>=4.22.0 in /usr/local/lib/python3.10/dist-packages (from matplotlib->roboflow) (4.47.2)\n",
            "Requirement already satisfied: packaging>=20.0 in /usr/local/lib/python3.10/dist-packages (from matplotlib->roboflow) (23.2)\n",
            "Requirement already satisfied: pyparsing>=2.3.1 in /usr/local/lib/python3.10/dist-packages (from matplotlib->roboflow) (3.1.1)\n",
            "Requirement already satisfied: charset-normalizer<4,>=2 in /usr/local/lib/python3.10/dist-packages (from requests->roboflow) (3.3.2)\n",
            "Requirement already satisfied: defusedxml<0.8.0,>=0.7.1 in /usr/local/lib/python3.10/dist-packages (from supervision->roboflow) (0.7.1)\n",
            "Requirement already satisfied: scipy<2.0.0,>=1.10.0 in /usr/local/lib/python3.10/dist-packages (from supervision->roboflow) (1.11.4)\n",
            "loading Roboflow workspace...\n",
            "loading Roboflow project...\n",
            "Dependency ultralytics==8.0.196 is required but found version=8.1.9, to fix: `pip install ultralytics==8.0.196`\n"
          ]
        }
      ],
      "source": [
        "!pip install ultralytics\n",
        "!pip install roboflow\n",
        "\n",
        "from roboflow import Roboflow\n",
        "from ultralytics import YOLO\n",
        "rf = Roboflow(api_key=\"9M9eZwZT2EXz4Lmw2SsQ\")\n",
        "project = rf.workspace(\"utad-dqdey\").project(\"grapevine-disease-detection-vw9ru\")\n",
        "dataset = project.version(1).download(\"yolov8\")"
      ]
    },
    {
      "cell_type": "code",
      "source": [
        "model = YOLO(\"yolov8l.yaml\").load(\"yolov8l.pt\")\n",
        "#model = YOLO(\"yolov8n.yaml\").load(\"yolov8n.pt\")\n",
        "#model = YOLO(\"yolov5n.yaml\").load(\"yolov5n.pt\")\n",
        "\n",
        "path = r\"/content/Grapevine-disease-detection-1/data.yaml\"\n",
        "\n",
        "results = model.train(data = path, epochs = 50)"
      ],
      "metadata": {
        "colab": {
          "base_uri": "https://localhost:8080/"
        },
        "id": "30-y-xvds60t",
        "outputId": "fefa1ea1-5786-477c-ce97-c72a79758a91"
      },
      "execution_count": null,
      "outputs": [
        {
          "output_type": "stream",
          "name": "stdout",
          "text": [
            "Downloading https://github.com/ultralytics/assets/releases/download/v8.1.0/yolov8l.pt to 'yolov8l.pt'...\n"
          ]
        },
        {
          "output_type": "stream",
          "name": "stderr",
          "text": [
            "100%|██████████| 83.7M/83.7M [00:00<00:00, 244MB/s]\n"
          ]
        },
        {
          "output_type": "stream",
          "name": "stdout",
          "text": [
            "Transferred 595/595 items from pretrained weights\n",
            "Ultralytics YOLOv8.1.9 🚀 Python-3.10.12 torch-2.1.0+cu121 CUDA:0 (Tesla T4, 15102MiB)\n",
            "\u001b[34m\u001b[1mengine/trainer: \u001b[0mtask=detect, mode=train, model=yolov8l.yaml, data=/content/Drapevine-disease-detection-1/data.yaml, epochs=50, time=None, patience=50, batch=16, imgsz=640, save=True, save_period=-1, cache=False, device=None, workers=8, project=None, name=train, exist_ok=False, pretrained=True, optimizer=auto, verbose=True, seed=0, deterministic=True, single_cls=False, rect=False, cos_lr=False, close_mosaic=10, resume=False, amp=True, fraction=1.0, profile=False, freeze=None, multi_scale=False, overlap_mask=True, mask_ratio=4, dropout=0.0, val=True, split=val, save_json=False, save_hybrid=False, conf=None, iou=0.7, max_det=300, half=False, dnn=False, plots=True, source=None, vid_stride=1, stream_buffer=False, visualize=False, augment=False, agnostic_nms=False, classes=None, retina_masks=False, embed=None, show=False, save_frames=False, save_txt=False, save_conf=False, save_crop=False, show_labels=True, show_conf=True, show_boxes=True, line_width=None, format=torchscript, keras=False, optimize=False, int8=False, dynamic=False, simplify=False, opset=None, workspace=4, nms=False, lr0=0.01, lrf=0.01, momentum=0.937, weight_decay=0.0005, warmup_epochs=3.0, warmup_momentum=0.8, warmup_bias_lr=0.1, box=7.5, cls=0.5, dfl=1.5, pose=12.0, kobj=1.0, label_smoothing=0.0, nbs=64, hsv_h=0.015, hsv_s=0.7, hsv_v=0.4, degrees=0.0, translate=0.1, scale=0.5, shear=0.0, perspective=0.0, flipud=0.0, fliplr=0.5, mosaic=1.0, mixup=0.0, copy_paste=0.0, auto_augment=randaugment, erasing=0.4, crop_fraction=1.0, cfg=None, tracker=botsort.yaml, save_dir=runs/detect/train\n",
            "Downloading https://ultralytics.com/assets/Arial.ttf to '/root/.config/Ultralytics/Arial.ttf'...\n"
          ]
        },
        {
          "output_type": "stream",
          "name": "stderr",
          "text": [
            "100%|██████████| 755k/755k [00:00<00:00, 24.0MB/s]\n"
          ]
        },
        {
          "output_type": "stream",
          "name": "stdout",
          "text": [
            "Overriding model.yaml nc=80 with nc=6\n",
            "\n",
            "                   from  n    params  module                                       arguments                     \n",
            "  0                  -1  1      1856  ultralytics.nn.modules.conv.Conv             [3, 64, 3, 2]                 \n",
            "  1                  -1  1     73984  ultralytics.nn.modules.conv.Conv             [64, 128, 3, 2]               \n",
            "  2                  -1  3    279808  ultralytics.nn.modules.block.C2f             [128, 128, 3, True]           \n",
            "  3                  -1  1    295424  ultralytics.nn.modules.conv.Conv             [128, 256, 3, 2]              \n",
            "  4                  -1  6   2101248  ultralytics.nn.modules.block.C2f             [256, 256, 6, True]           \n",
            "  5                  -1  1   1180672  ultralytics.nn.modules.conv.Conv             [256, 512, 3, 2]              \n",
            "  6                  -1  6   8396800  ultralytics.nn.modules.block.C2f             [512, 512, 6, True]           \n",
            "  7                  -1  1   2360320  ultralytics.nn.modules.conv.Conv             [512, 512, 3, 2]              \n",
            "  8                  -1  3   4461568  ultralytics.nn.modules.block.C2f             [512, 512, 3, True]           \n",
            "  9                  -1  1    656896  ultralytics.nn.modules.block.SPPF            [512, 512, 5]                 \n",
            " 10                  -1  1         0  torch.nn.modules.upsampling.Upsample         [None, 2, 'nearest']          \n",
            " 11             [-1, 6]  1         0  ultralytics.nn.modules.conv.Concat           [1]                           \n",
            " 12                  -1  3   4723712  ultralytics.nn.modules.block.C2f             [1024, 512, 3]                \n",
            " 13                  -1  1         0  torch.nn.modules.upsampling.Upsample         [None, 2, 'nearest']          \n",
            " 14             [-1, 4]  1         0  ultralytics.nn.modules.conv.Concat           [1]                           \n",
            " 15                  -1  3   1247744  ultralytics.nn.modules.block.C2f             [768, 256, 3]                 \n",
            " 16                  -1  1    590336  ultralytics.nn.modules.conv.Conv             [256, 256, 3, 2]              \n",
            " 17            [-1, 12]  1         0  ultralytics.nn.modules.conv.Concat           [1]                           \n",
            " 18                  -1  3   4592640  ultralytics.nn.modules.block.C2f             [768, 512, 3]                 \n",
            " 19                  -1  1   2360320  ultralytics.nn.modules.conv.Conv             [512, 512, 3, 2]              \n",
            " 20             [-1, 9]  1         0  ultralytics.nn.modules.conv.Concat           [1]                           \n",
            " 21                  -1  3   4723712  ultralytics.nn.modules.block.C2f             [1024, 512, 3]                \n",
            " 22        [15, 18, 21]  1   5587426  ultralytics.nn.modules.head.Detect           [6, [256, 512, 512]]          \n",
            "YOLOv8l summary: 365 layers, 43634466 parameters, 43634450 gradients, 165.4 GFLOPs\n",
            "\n",
            "Transferred 589/595 items from pretrained weights\n",
            "\u001b[34m\u001b[1mTensorBoard: \u001b[0mStart with 'tensorboard --logdir runs/detect/train', view at http://localhost:6006/\n",
            "Freezing layer 'model.22.dfl.conv.weight'\n",
            "\u001b[34m\u001b[1mAMP: \u001b[0mrunning Automatic Mixed Precision (AMP) checks with YOLOv8n...\n",
            "Downloading https://github.com/ultralytics/assets/releases/download/v8.1.0/yolov8n.pt to 'yolov8n.pt'...\n"
          ]
        },
        {
          "output_type": "stream",
          "name": "stderr",
          "text": [
            "100%|██████████| 6.23M/6.23M [00:00<00:00, 129MB/s]\n"
          ]
        },
        {
          "output_type": "stream",
          "name": "stdout",
          "text": [
            "\u001b[34m\u001b[1mAMP: \u001b[0mchecks passed ✅\n"
          ]
        },
        {
          "output_type": "stream",
          "name": "stderr",
          "text": [
            "\u001b[34m\u001b[1mtrain: \u001b[0mScanning /content/Drapevine-disease-detection-1/train/labels... 2073 images, 0 backgrounds, 0 corrupt: 100%|██████████| 2073/2073 [00:01<00:00, 1327.11it/s]"
          ]
        },
        {
          "output_type": "stream",
          "name": "stdout",
          "text": [
            "\u001b[34m\u001b[1mtrain: \u001b[0mNew cache created: /content/Drapevine-disease-detection-1/train/labels.cache\n"
          ]
        },
        {
          "output_type": "stream",
          "name": "stderr",
          "text": [
            "\n"
          ]
        },
        {
          "output_type": "stream",
          "name": "stdout",
          "text": [
            "\u001b[34m\u001b[1malbumentations: \u001b[0mBlur(p=0.01, blur_limit=(3, 7)), MedianBlur(p=0.01, blur_limit=(3, 7)), ToGray(p=0.01), CLAHE(p=0.01, clip_limit=(1, 4.0), tile_grid_size=(8, 8))\n"
          ]
        },
        {
          "output_type": "stream",
          "name": "stderr",
          "text": [
            "\u001b[34m\u001b[1mval: \u001b[0mScanning /content/Drapevine-disease-detection-1/valid/labels... 199 images, 0 backgrounds, 0 corrupt: 100%|██████████| 199/199 [00:00<00:00, 730.62it/s]"
          ]
        },
        {
          "output_type": "stream",
          "name": "stdout",
          "text": [
            "\u001b[34m\u001b[1mval: \u001b[0mNew cache created: /content/Drapevine-disease-detection-1/valid/labels.cache\n"
          ]
        },
        {
          "output_type": "stream",
          "name": "stderr",
          "text": [
            "\n"
          ]
        },
        {
          "output_type": "stream",
          "name": "stdout",
          "text": [
            "Plotting labels to runs/detect/train/labels.jpg... \n",
            "\u001b[34m\u001b[1moptimizer:\u001b[0m 'optimizer=auto' found, ignoring 'lr0=0.01' and 'momentum=0.937' and determining best 'optimizer', 'lr0' and 'momentum' automatically... \n",
            "\u001b[34m\u001b[1moptimizer:\u001b[0m AdamW(lr=0.001, momentum=0.9) with parameter groups 97 weight(decay=0.0), 104 weight(decay=0.0005), 103 bias(decay=0.0)\n",
            "\u001b[34m\u001b[1mTensorBoard: \u001b[0mmodel graph visualization added ✅\n",
            "Image sizes 640 train, 640 val\n",
            "Using 2 dataloader workers\n",
            "Logging results to \u001b[1mruns/detect/train\u001b[0m\n",
            "Starting training for 50 epochs...\n",
            "\n",
            "      Epoch    GPU_mem   box_loss   cls_loss   dfl_loss  Instances       Size\n"
          ]
        },
        {
          "output_type": "stream",
          "name": "stderr",
          "text": [
            "       1/50      12.2G      2.304      2.622      1.501        521        640: 100%|██████████| 130/130 [02:03<00:00,  1.05it/s]\n",
            "                 Class     Images  Instances      Box(P          R      mAP50  mAP50-95): 100%|██████████| 7/7 [00:07<00:00,  1.06s/it]"
          ]
        },
        {
          "output_type": "stream",
          "name": "stdout",
          "text": [
            "                   all        199       8385     0.0955      0.119     0.0585     0.0288\n"
          ]
        },
        {
          "output_type": "stream",
          "name": "stderr",
          "text": [
            "\n"
          ]
        },
        {
          "output_type": "stream",
          "name": "stdout",
          "text": [
            "\n",
            "      Epoch    GPU_mem   box_loss   cls_loss   dfl_loss  Instances       Size\n"
          ]
        },
        {
          "output_type": "stream",
          "name": "stderr",
          "text": [
            "       2/50      13.4G      2.138      2.205      1.393        784        640: 100%|██████████| 130/130 [01:47<00:00,  1.20it/s]\n",
            "                 Class     Images  Instances      Box(P          R      mAP50  mAP50-95): 100%|██████████| 7/7 [00:06<00:00,  1.04it/s]"
          ]
        },
        {
          "output_type": "stream",
          "name": "stdout",
          "text": [
            "                   all        199       8385     0.0598      0.098     0.0396       0.02\n"
          ]
        },
        {
          "output_type": "stream",
          "name": "stderr",
          "text": [
            "\n"
          ]
        },
        {
          "output_type": "stream",
          "name": "stdout",
          "text": [
            "\n",
            "      Epoch    GPU_mem   box_loss   cls_loss   dfl_loss  Instances       Size\n"
          ]
        },
        {
          "output_type": "stream",
          "name": "stderr",
          "text": [
            "       3/50      12.6G       2.15      2.179      1.382        293        640: 100%|██████████| 130/130 [01:46<00:00,  1.22it/s]\n",
            "                 Class     Images  Instances      Box(P          R      mAP50  mAP50-95): 100%|██████████| 7/7 [00:05<00:00,  1.30it/s]"
          ]
        },
        {
          "output_type": "stream",
          "name": "stdout",
          "text": [
            "                   all        199       8385      0.304      0.129     0.0905     0.0452\n"
          ]
        },
        {
          "output_type": "stream",
          "name": "stderr",
          "text": [
            "\n"
          ]
        },
        {
          "output_type": "stream",
          "name": "stdout",
          "text": [
            "\n",
            "      Epoch    GPU_mem   box_loss   cls_loss   dfl_loss  Instances       Size\n"
          ]
        },
        {
          "output_type": "stream",
          "name": "stderr",
          "text": [
            "       4/50      14.2G      2.145      2.177       1.38        419        640: 100%|██████████| 130/130 [01:46<00:00,  1.22it/s]\n",
            "                 Class     Images  Instances      Box(P          R      mAP50  mAP50-95): 100%|██████████| 7/7 [00:05<00:00,  1.18it/s]"
          ]
        },
        {
          "output_type": "stream",
          "name": "stdout",
          "text": [
            "                   all        199       8385      0.131      0.148     0.0863     0.0409\n"
          ]
        },
        {
          "output_type": "stream",
          "name": "stderr",
          "text": [
            "\n"
          ]
        },
        {
          "output_type": "stream",
          "name": "stdout",
          "text": [
            "\n",
            "      Epoch    GPU_mem   box_loss   cls_loss   dfl_loss  Instances       Size\n"
          ]
        },
        {
          "output_type": "stream",
          "name": "stderr",
          "text": [
            "       5/50        12G       2.11      2.097      1.352        727        640: 100%|██████████| 130/130 [01:46<00:00,  1.22it/s]\n",
            "                 Class     Images  Instances      Box(P          R      mAP50  mAP50-95): 100%|██████████| 7/7 [00:05<00:00,  1.29it/s]"
          ]
        },
        {
          "output_type": "stream",
          "name": "stdout",
          "text": [
            "                   all        199       8385      0.299       0.14     0.0937     0.0467\n"
          ]
        },
        {
          "output_type": "stream",
          "name": "stderr",
          "text": [
            "\n"
          ]
        },
        {
          "output_type": "stream",
          "name": "stdout",
          "text": [
            "\n",
            "      Epoch    GPU_mem   box_loss   cls_loss   dfl_loss  Instances       Size\n"
          ]
        },
        {
          "output_type": "stream",
          "name": "stderr",
          "text": [
            "       6/50      13.5G      2.069      2.062      1.331        534        640: 100%|██████████| 130/130 [01:46<00:00,  1.22it/s]\n",
            "                 Class     Images  Instances      Box(P          R      mAP50  mAP50-95): 100%|██████████| 7/7 [00:05<00:00,  1.36it/s]"
          ]
        },
        {
          "output_type": "stream",
          "name": "stdout",
          "text": [
            "                   all        199       8385      0.156      0.127     0.0981     0.0515\n"
          ]
        },
        {
          "output_type": "stream",
          "name": "stderr",
          "text": [
            "\n"
          ]
        },
        {
          "output_type": "stream",
          "name": "stdout",
          "text": [
            "\n",
            "      Epoch    GPU_mem   box_loss   cls_loss   dfl_loss  Instances       Size\n"
          ]
        },
        {
          "output_type": "stream",
          "name": "stderr",
          "text": [
            "       7/50      14.7G      2.019      1.968      1.312        611        640: 100%|██████████| 130/130 [01:46<00:00,  1.22it/s]\n",
            "                 Class     Images  Instances      Box(P          R      mAP50  mAP50-95): 100%|██████████| 7/7 [00:05<00:00,  1.27it/s]"
          ]
        },
        {
          "output_type": "stream",
          "name": "stdout",
          "text": [
            "                   all        199       8385      0.154      0.179      0.115     0.0574\n"
          ]
        },
        {
          "output_type": "stream",
          "name": "stderr",
          "text": [
            "\n"
          ]
        },
        {
          "output_type": "stream",
          "name": "stdout",
          "text": [
            "\n",
            "      Epoch    GPU_mem   box_loss   cls_loss   dfl_loss  Instances       Size\n"
          ]
        },
        {
          "output_type": "stream",
          "name": "stderr",
          "text": [
            "       8/50      13.7G      2.036      1.991       1.32        406        640: 100%|██████████| 130/130 [01:46<00:00,  1.22it/s]\n",
            "                 Class     Images  Instances      Box(P          R      mAP50  mAP50-95): 100%|██████████| 7/7 [00:06<00:00,  1.12it/s]"
          ]
        },
        {
          "output_type": "stream",
          "name": "stdout",
          "text": [
            "                   all        199       8385      0.158      0.187      0.118     0.0598\n"
          ]
        },
        {
          "output_type": "stream",
          "name": "stderr",
          "text": [
            "\n"
          ]
        },
        {
          "output_type": "stream",
          "name": "stdout",
          "text": [
            "\n",
            "      Epoch    GPU_mem   box_loss   cls_loss   dfl_loss  Instances       Size\n"
          ]
        },
        {
          "output_type": "stream",
          "name": "stderr",
          "text": [
            "       9/50      13.1G      2.008      1.937      1.298        670        640: 100%|██████████| 130/130 [01:47<00:00,  1.21it/s]\n",
            "                 Class     Images  Instances      Box(P          R      mAP50  mAP50-95): 100%|██████████| 7/7 [00:05<00:00,  1.22it/s]"
          ]
        },
        {
          "output_type": "stream",
          "name": "stdout",
          "text": [
            "                   all        199       8385      0.314      0.155      0.116     0.0583\n"
          ]
        },
        {
          "output_type": "stream",
          "name": "stderr",
          "text": [
            "\n"
          ]
        },
        {
          "output_type": "stream",
          "name": "stdout",
          "text": [
            "\n",
            "      Epoch    GPU_mem   box_loss   cls_loss   dfl_loss  Instances       Size\n"
          ]
        },
        {
          "output_type": "stream",
          "name": "stderr",
          "text": [
            "      10/50      12.6G      1.989      1.906      1.294        392        640: 100%|██████████| 130/130 [01:46<00:00,  1.22it/s]\n",
            "                 Class     Images  Instances      Box(P          R      mAP50  mAP50-95): 100%|██████████| 7/7 [00:05<00:00,  1.28it/s]"
          ]
        },
        {
          "output_type": "stream",
          "name": "stdout",
          "text": [
            "                   all        199       8385      0.166       0.19       0.13     0.0669\n"
          ]
        },
        {
          "output_type": "stream",
          "name": "stderr",
          "text": [
            "\n"
          ]
        },
        {
          "output_type": "stream",
          "name": "stdout",
          "text": [
            "\n",
            "      Epoch    GPU_mem   box_loss   cls_loss   dfl_loss  Instances       Size\n"
          ]
        },
        {
          "output_type": "stream",
          "name": "stderr",
          "text": [
            "      11/50      13.4G      1.958      1.858      1.278        690        640: 100%|██████████| 130/130 [01:47<00:00,  1.21it/s]\n",
            "                 Class     Images  Instances      Box(P          R      mAP50  mAP50-95): 100%|██████████| 7/7 [00:05<00:00,  1.39it/s]"
          ]
        },
        {
          "output_type": "stream",
          "name": "stdout",
          "text": [
            "                   all        199       8385      0.191      0.175      0.135     0.0704\n"
          ]
        },
        {
          "output_type": "stream",
          "name": "stderr",
          "text": [
            "\n"
          ]
        },
        {
          "output_type": "stream",
          "name": "stdout",
          "text": [
            "\n",
            "      Epoch    GPU_mem   box_loss   cls_loss   dfl_loss  Instances       Size\n"
          ]
        },
        {
          "output_type": "stream",
          "name": "stderr",
          "text": [
            "      12/50      13.3G      1.959      1.865      1.282        588        640: 100%|██████████| 130/130 [01:46<00:00,  1.22it/s]\n",
            "                 Class     Images  Instances      Box(P          R      mAP50  mAP50-95): 100%|██████████| 7/7 [00:05<00:00,  1.36it/s]"
          ]
        },
        {
          "output_type": "stream",
          "name": "stdout",
          "text": [
            "                   all        199       8385      0.159      0.195      0.133     0.0671\n"
          ]
        },
        {
          "output_type": "stream",
          "name": "stderr",
          "text": [
            "\n"
          ]
        },
        {
          "output_type": "stream",
          "name": "stdout",
          "text": [
            "\n",
            "      Epoch    GPU_mem   box_loss   cls_loss   dfl_loss  Instances       Size\n"
          ]
        },
        {
          "output_type": "stream",
          "name": "stderr",
          "text": [
            "      13/50      11.6G      1.931      1.828      1.267        627        640: 100%|██████████| 130/130 [01:47<00:00,  1.21it/s]\n",
            "                 Class     Images  Instances      Box(P          R      mAP50  mAP50-95): 100%|██████████| 7/7 [00:05<00:00,  1.31it/s]"
          ]
        },
        {
          "output_type": "stream",
          "name": "stdout",
          "text": [
            "                   all        199       8385      0.194      0.199      0.143     0.0747\n"
          ]
        },
        {
          "output_type": "stream",
          "name": "stderr",
          "text": [
            "\n"
          ]
        },
        {
          "output_type": "stream",
          "name": "stdout",
          "text": [
            "\n",
            "      Epoch    GPU_mem   box_loss   cls_loss   dfl_loss  Instances       Size\n"
          ]
        },
        {
          "output_type": "stream",
          "name": "stderr",
          "text": [
            "      14/50      12.5G      1.934       1.81       1.26        662        640: 100%|██████████| 130/130 [01:47<00:00,  1.21it/s]\n",
            "                 Class     Images  Instances      Box(P          R      mAP50  mAP50-95): 100%|██████████| 7/7 [00:05<00:00,  1.24it/s]"
          ]
        },
        {
          "output_type": "stream",
          "name": "stdout",
          "text": [
            "                   all        199       8385      0.349      0.185      0.141      0.072\n"
          ]
        },
        {
          "output_type": "stream",
          "name": "stderr",
          "text": [
            "\n"
          ]
        },
        {
          "output_type": "stream",
          "name": "stdout",
          "text": [
            "\n",
            "      Epoch    GPU_mem   box_loss   cls_loss   dfl_loss  Instances       Size\n"
          ]
        },
        {
          "output_type": "stream",
          "name": "stderr",
          "text": [
            "      15/50      13.1G      1.916      1.779      1.256        562        640: 100%|██████████| 130/130 [01:47<00:00,  1.21it/s]\n",
            "                 Class     Images  Instances      Box(P          R      mAP50  mAP50-95): 100%|██████████| 7/7 [00:05<00:00,  1.26it/s]"
          ]
        },
        {
          "output_type": "stream",
          "name": "stdout",
          "text": [
            "                   all        199       8385      0.365      0.201      0.151     0.0751\n"
          ]
        },
        {
          "output_type": "stream",
          "name": "stderr",
          "text": [
            "\n"
          ]
        },
        {
          "output_type": "stream",
          "name": "stdout",
          "text": [
            "\n",
            "      Epoch    GPU_mem   box_loss   cls_loss   dfl_loss  Instances       Size\n"
          ]
        },
        {
          "output_type": "stream",
          "name": "stderr",
          "text": [
            "      16/50      12.4G      1.927      1.813      1.262        470        640: 100%|██████████| 130/130 [01:47<00:00,  1.21it/s]\n",
            "                 Class     Images  Instances      Box(P          R      mAP50  mAP50-95): 100%|██████████| 7/7 [00:05<00:00,  1.31it/s]"
          ]
        },
        {
          "output_type": "stream",
          "name": "stdout",
          "text": [
            "                   all        199       8385      0.191      0.176      0.139     0.0731\n"
          ]
        },
        {
          "output_type": "stream",
          "name": "stderr",
          "text": [
            "\n"
          ]
        },
        {
          "output_type": "stream",
          "name": "stdout",
          "text": [
            "\n",
            "      Epoch    GPU_mem   box_loss   cls_loss   dfl_loss  Instances       Size\n"
          ]
        },
        {
          "output_type": "stream",
          "name": "stderr",
          "text": [
            "      17/50      11.9G      1.899      1.754      1.253        437        640: 100%|██████████| 130/130 [01:46<00:00,  1.22it/s]\n",
            "                 Class     Images  Instances      Box(P          R      mAP50  mAP50-95): 100%|██████████| 7/7 [00:05<00:00,  1.30it/s]"
          ]
        },
        {
          "output_type": "stream",
          "name": "stdout",
          "text": [
            "                   all        199       8385      0.363      0.195      0.143     0.0758\n"
          ]
        },
        {
          "output_type": "stream",
          "name": "stderr",
          "text": [
            "\n"
          ]
        },
        {
          "output_type": "stream",
          "name": "stdout",
          "text": [
            "\n",
            "      Epoch    GPU_mem   box_loss   cls_loss   dfl_loss  Instances       Size\n"
          ]
        },
        {
          "output_type": "stream",
          "name": "stderr",
          "text": [
            "      18/50      12.8G      1.894      1.745      1.252        399        640: 100%|██████████| 130/130 [01:47<00:00,  1.21it/s]\n",
            "                 Class     Images  Instances      Box(P          R      mAP50  mAP50-95): 100%|██████████| 7/7 [00:05<00:00,  1.38it/s]"
          ]
        },
        {
          "output_type": "stream",
          "name": "stdout",
          "text": [
            "                   all        199       8385       0.38      0.189      0.153     0.0811\n"
          ]
        },
        {
          "output_type": "stream",
          "name": "stderr",
          "text": [
            "\n"
          ]
        },
        {
          "output_type": "stream",
          "name": "stdout",
          "text": [
            "\n",
            "      Epoch    GPU_mem   box_loss   cls_loss   dfl_loss  Instances       Size\n"
          ]
        },
        {
          "output_type": "stream",
          "name": "stderr",
          "text": [
            "      19/50      12.9G      1.891      1.736      1.244        609        640: 100%|██████████| 130/130 [01:47<00:00,  1.21it/s]\n",
            "                 Class     Images  Instances      Box(P          R      mAP50  mAP50-95): 100%|██████████| 7/7 [00:05<00:00,  1.26it/s]"
          ]
        },
        {
          "output_type": "stream",
          "name": "stdout",
          "text": [
            "                   all        199       8385      0.368      0.186      0.146      0.077\n"
          ]
        },
        {
          "output_type": "stream",
          "name": "stderr",
          "text": [
            "\n"
          ]
        },
        {
          "output_type": "stream",
          "name": "stdout",
          "text": [
            "\n",
            "      Epoch    GPU_mem   box_loss   cls_loss   dfl_loss  Instances       Size\n"
          ]
        },
        {
          "output_type": "stream",
          "name": "stderr",
          "text": [
            "      20/50      12.4G      1.875      1.708      1.236        460        640: 100%|██████████| 130/130 [01:47<00:00,  1.21it/s]\n",
            "                 Class     Images  Instances      Box(P          R      mAP50  mAP50-95): 100%|██████████| 7/7 [00:05<00:00,  1.36it/s]"
          ]
        },
        {
          "output_type": "stream",
          "name": "stdout",
          "text": [
            "                   all        199       8385      0.374      0.213      0.205      0.103\n"
          ]
        },
        {
          "output_type": "stream",
          "name": "stderr",
          "text": [
            "\n"
          ]
        },
        {
          "output_type": "stream",
          "name": "stdout",
          "text": [
            "\n",
            "      Epoch    GPU_mem   box_loss   cls_loss   dfl_loss  Instances       Size\n"
          ]
        },
        {
          "output_type": "stream",
          "name": "stderr",
          "text": [
            "      21/50      14.4G      1.853       1.69      1.233        399        640: 100%|██████████| 130/130 [01:47<00:00,  1.21it/s]\n",
            "                 Class     Images  Instances      Box(P          R      mAP50  mAP50-95): 100%|██████████| 7/7 [00:05<00:00,  1.23it/s]"
          ]
        },
        {
          "output_type": "stream",
          "name": "stdout",
          "text": [
            "                   all        199       8385      0.376      0.213      0.184     0.0961\n"
          ]
        },
        {
          "output_type": "stream",
          "name": "stderr",
          "text": [
            "\n"
          ]
        },
        {
          "output_type": "stream",
          "name": "stdout",
          "text": [
            "\n",
            "      Epoch    GPU_mem   box_loss   cls_loss   dfl_loss  Instances       Size\n"
          ]
        },
        {
          "output_type": "stream",
          "name": "stderr",
          "text": [
            "      22/50      13.6G      1.855      1.696      1.235        340        640: 100%|██████████| 130/130 [01:47<00:00,  1.21it/s]\n",
            "                 Class     Images  Instances      Box(P          R      mAP50  mAP50-95): 100%|██████████| 7/7 [00:05<00:00,  1.31it/s]"
          ]
        },
        {
          "output_type": "stream",
          "name": "stdout",
          "text": [
            "                   all        199       8385      0.188      0.204      0.148     0.0773\n"
          ]
        },
        {
          "output_type": "stream",
          "name": "stderr",
          "text": [
            "\n"
          ]
        },
        {
          "output_type": "stream",
          "name": "stdout",
          "text": [
            "\n",
            "      Epoch    GPU_mem   box_loss   cls_loss   dfl_loss  Instances       Size\n"
          ]
        },
        {
          "output_type": "stream",
          "name": "stderr",
          "text": [
            "      23/50      12.1G      1.844      1.666      1.221        670        640: 100%|██████████| 130/130 [01:46<00:00,  1.22it/s]\n",
            "                 Class     Images  Instances      Box(P          R      mAP50  mAP50-95): 100%|██████████| 7/7 [00:05<00:00,  1.29it/s]"
          ]
        },
        {
          "output_type": "stream",
          "name": "stdout",
          "text": [
            "                   all        199       8385      0.371      0.203       0.15     0.0791\n"
          ]
        },
        {
          "output_type": "stream",
          "name": "stderr",
          "text": [
            "\n"
          ]
        },
        {
          "output_type": "stream",
          "name": "stdout",
          "text": [
            "\n",
            "      Epoch    GPU_mem   box_loss   cls_loss   dfl_loss  Instances       Size\n"
          ]
        },
        {
          "output_type": "stream",
          "name": "stderr",
          "text": [
            "      24/50      12.7G      1.852      1.662      1.229        464        640: 100%|██████████| 130/130 [01:46<00:00,  1.22it/s]\n",
            "                 Class     Images  Instances      Box(P          R      mAP50  mAP50-95): 100%|██████████| 7/7 [00:05<00:00,  1.20it/s]"
          ]
        },
        {
          "output_type": "stream",
          "name": "stdout",
          "text": [
            "                   all        199       8385      0.385      0.205      0.163     0.0856\n"
          ]
        },
        {
          "output_type": "stream",
          "name": "stderr",
          "text": [
            "\n"
          ]
        },
        {
          "output_type": "stream",
          "name": "stdout",
          "text": [
            "\n",
            "      Epoch    GPU_mem   box_loss   cls_loss   dfl_loss  Instances       Size\n"
          ]
        },
        {
          "output_type": "stream",
          "name": "stderr",
          "text": [
            "      25/50      12.4G      1.821      1.663      1.227        309        640: 100%|██████████| 130/130 [01:46<00:00,  1.22it/s]\n",
            "                 Class     Images  Instances      Box(P          R      mAP50  mAP50-95): 100%|██████████| 7/7 [00:05<00:00,  1.28it/s]"
          ]
        },
        {
          "output_type": "stream",
          "name": "stdout",
          "text": [
            "                   all        199       8385      0.372      0.212      0.158     0.0848\n"
          ]
        },
        {
          "output_type": "stream",
          "name": "stderr",
          "text": [
            "\n"
          ]
        },
        {
          "output_type": "stream",
          "name": "stdout",
          "text": [
            "\n",
            "      Epoch    GPU_mem   box_loss   cls_loss   dfl_loss  Instances       Size\n"
          ]
        },
        {
          "output_type": "stream",
          "name": "stderr",
          "text": [
            "      26/50      11.6G      1.814      1.629      1.217        448        640: 100%|██████████| 130/130 [01:47<00:00,  1.21it/s]\n",
            "                 Class     Images  Instances      Box(P          R      mAP50  mAP50-95): 100%|██████████| 7/7 [00:05<00:00,  1.38it/s]"
          ]
        },
        {
          "output_type": "stream",
          "name": "stdout",
          "text": [
            "                   all        199       8385      0.388      0.208      0.162     0.0864\n"
          ]
        },
        {
          "output_type": "stream",
          "name": "stderr",
          "text": [
            "\n"
          ]
        },
        {
          "output_type": "stream",
          "name": "stdout",
          "text": [
            "\n",
            "      Epoch    GPU_mem   box_loss   cls_loss   dfl_loss  Instances       Size\n"
          ]
        },
        {
          "output_type": "stream",
          "name": "stderr",
          "text": [
            "      27/50      13.4G      1.816      1.608      1.215        523        640: 100%|██████████| 130/130 [01:46<00:00,  1.22it/s]\n",
            "                 Class     Images  Instances      Box(P          R      mAP50  mAP50-95): 100%|██████████| 7/7 [00:05<00:00,  1.24it/s]"
          ]
        },
        {
          "output_type": "stream",
          "name": "stdout",
          "text": [
            "                   all        199       8385      0.375      0.211       0.17     0.0898\n"
          ]
        },
        {
          "output_type": "stream",
          "name": "stderr",
          "text": [
            "\n"
          ]
        },
        {
          "output_type": "stream",
          "name": "stdout",
          "text": [
            "\n",
            "      Epoch    GPU_mem   box_loss   cls_loss   dfl_loss  Instances       Size\n"
          ]
        },
        {
          "output_type": "stream",
          "name": "stderr",
          "text": [
            "      28/50      12.9G      1.807      1.602      1.216        665        640: 100%|██████████| 130/130 [01:47<00:00,  1.21it/s]\n",
            "                 Class     Images  Instances      Box(P          R      mAP50  mAP50-95): 100%|██████████| 7/7 [00:05<00:00,  1.37it/s]"
          ]
        },
        {
          "output_type": "stream",
          "name": "stdout",
          "text": [
            "                   all        199       8385      0.377        0.2      0.163     0.0836\n"
          ]
        },
        {
          "output_type": "stream",
          "name": "stderr",
          "text": [
            "\n"
          ]
        },
        {
          "output_type": "stream",
          "name": "stdout",
          "text": [
            "\n",
            "      Epoch    GPU_mem   box_loss   cls_loss   dfl_loss  Instances       Size\n"
          ]
        },
        {
          "output_type": "stream",
          "name": "stderr",
          "text": [
            "      29/50        13G      1.804      1.575      1.205        569        640: 100%|██████████| 130/130 [01:47<00:00,  1.21it/s]\n",
            "                 Class     Images  Instances      Box(P          R      mAP50  mAP50-95): 100%|██████████| 7/7 [00:05<00:00,  1.36it/s]"
          ]
        },
        {
          "output_type": "stream",
          "name": "stdout",
          "text": [
            "                   all        199       8385      0.394      0.212      0.172     0.0893\n"
          ]
        },
        {
          "output_type": "stream",
          "name": "stderr",
          "text": [
            "\n"
          ]
        },
        {
          "output_type": "stream",
          "name": "stdout",
          "text": [
            "\n",
            "      Epoch    GPU_mem   box_loss   cls_loss   dfl_loss  Instances       Size\n"
          ]
        },
        {
          "output_type": "stream",
          "name": "stderr",
          "text": [
            "      30/50      12.5G      1.779      1.558      1.198        477        640: 100%|██████████| 130/130 [01:47<00:00,  1.21it/s]\n",
            "                 Class     Images  Instances      Box(P          R      mAP50  mAP50-95): 100%|██████████| 7/7 [00:05<00:00,  1.39it/s]"
          ]
        },
        {
          "output_type": "stream",
          "name": "stdout",
          "text": [
            "                   all        199       8385      0.388      0.219      0.168     0.0868\n"
          ]
        },
        {
          "output_type": "stream",
          "name": "stderr",
          "text": [
            "\n"
          ]
        },
        {
          "output_type": "stream",
          "name": "stdout",
          "text": [
            "\n",
            "      Epoch    GPU_mem   box_loss   cls_loss   dfl_loss  Instances       Size\n"
          ]
        },
        {
          "output_type": "stream",
          "name": "stderr",
          "text": [
            "      31/50        13G      1.773      1.547      1.198        392        640: 100%|██████████| 130/130 [01:46<00:00,  1.22it/s]\n",
            "                 Class     Images  Instances      Box(P          R      mAP50  mAP50-95): 100%|██████████| 7/7 [00:05<00:00,  1.31it/s]"
          ]
        },
        {
          "output_type": "stream",
          "name": "stdout",
          "text": [
            "                   all        199       8385      0.371      0.239      0.172     0.0904\n"
          ]
        },
        {
          "output_type": "stream",
          "name": "stderr",
          "text": [
            "\n"
          ]
        },
        {
          "output_type": "stream",
          "name": "stdout",
          "text": [
            "\n",
            "      Epoch    GPU_mem   box_loss   cls_loss   dfl_loss  Instances       Size\n"
          ]
        },
        {
          "output_type": "stream",
          "name": "stderr",
          "text": [
            "      32/50      13.9G      1.758       1.51      1.192        446        640: 100%|██████████| 130/130 [01:46<00:00,  1.22it/s]\n",
            "                 Class     Images  Instances      Box(P          R      mAP50  mAP50-95): 100%|██████████| 7/7 [00:05<00:00,  1.37it/s]"
          ]
        },
        {
          "output_type": "stream",
          "name": "stdout",
          "text": [
            "                   all        199       8385      0.377      0.223      0.167     0.0879\n"
          ]
        },
        {
          "output_type": "stream",
          "name": "stderr",
          "text": [
            "\n"
          ]
        },
        {
          "output_type": "stream",
          "name": "stdout",
          "text": [
            "\n",
            "      Epoch    GPU_mem   box_loss   cls_loss   dfl_loss  Instances       Size\n"
          ]
        },
        {
          "output_type": "stream",
          "name": "stderr",
          "text": [
            "      33/50      12.7G      1.758      1.526      1.186        383        640: 100%|██████████| 130/130 [01:46<00:00,  1.22it/s]\n",
            "                 Class     Images  Instances      Box(P          R      mAP50  mAP50-95): 100%|██████████| 7/7 [00:05<00:00,  1.40it/s]"
          ]
        },
        {
          "output_type": "stream",
          "name": "stdout",
          "text": [
            "                   all        199       8385      0.404      0.211      0.177     0.0939\n"
          ]
        },
        {
          "output_type": "stream",
          "name": "stderr",
          "text": [
            "\n"
          ]
        },
        {
          "output_type": "stream",
          "name": "stdout",
          "text": [
            "\n",
            "      Epoch    GPU_mem   box_loss   cls_loss   dfl_loss  Instances       Size\n"
          ]
        },
        {
          "output_type": "stream",
          "name": "stderr",
          "text": [
            "      34/50      14.2G      1.723      1.458      1.174        556        640: 100%|██████████| 130/130 [01:47<00:00,  1.21it/s]\n",
            "                 Class     Images  Instances      Box(P          R      mAP50  mAP50-95): 100%|██████████| 7/7 [00:05<00:00,  1.28it/s]"
          ]
        },
        {
          "output_type": "stream",
          "name": "stdout",
          "text": [
            "                   all        199       8385      0.375       0.22      0.171     0.0903\n"
          ]
        },
        {
          "output_type": "stream",
          "name": "stderr",
          "text": [
            "\n"
          ]
        },
        {
          "output_type": "stream",
          "name": "stdout",
          "text": [
            "\n",
            "      Epoch    GPU_mem   box_loss   cls_loss   dfl_loss  Instances       Size\n"
          ]
        },
        {
          "output_type": "stream",
          "name": "stderr",
          "text": [
            "      35/50      13.4G      1.731      1.469      1.178        581        640: 100%|██████████| 130/130 [01:46<00:00,  1.22it/s]\n",
            "                 Class     Images  Instances      Box(P          R      mAP50  mAP50-95): 100%|██████████| 7/7 [00:05<00:00,  1.31it/s]"
          ]
        },
        {
          "output_type": "stream",
          "name": "stdout",
          "text": [
            "                   all        199       8385      0.395      0.222      0.174     0.0932\n"
          ]
        },
        {
          "output_type": "stream",
          "name": "stderr",
          "text": [
            "\n"
          ]
        },
        {
          "output_type": "stream",
          "name": "stdout",
          "text": [
            "\n",
            "      Epoch    GPU_mem   box_loss   cls_loss   dfl_loss  Instances       Size\n"
          ]
        },
        {
          "output_type": "stream",
          "name": "stderr",
          "text": [
            "      36/50      13.1G      1.732      1.465      1.183        451        640: 100%|██████████| 130/130 [01:46<00:00,  1.22it/s]\n",
            "                 Class     Images  Instances      Box(P          R      mAP50  mAP50-95): 100%|██████████| 7/7 [00:05<00:00,  1.34it/s]"
          ]
        },
        {
          "output_type": "stream",
          "name": "stdout",
          "text": [
            "                   all        199       8385      0.402      0.228      0.184     0.0979\n"
          ]
        },
        {
          "output_type": "stream",
          "name": "stderr",
          "text": [
            "\n"
          ]
        },
        {
          "output_type": "stream",
          "name": "stdout",
          "text": [
            "\n",
            "      Epoch    GPU_mem   box_loss   cls_loss   dfl_loss  Instances       Size\n"
          ]
        },
        {
          "output_type": "stream",
          "name": "stderr",
          "text": [
            "      37/50      11.7G      1.716      1.441      1.176        752        640: 100%|██████████| 130/130 [01:46<00:00,  1.22it/s]\n",
            "                 Class     Images  Instances      Box(P          R      mAP50  mAP50-95): 100%|██████████| 7/7 [00:05<00:00,  1.24it/s]"
          ]
        },
        {
          "output_type": "stream",
          "name": "stdout",
          "text": [
            "                   all        199       8385      0.392      0.226      0.178     0.0947\n"
          ]
        },
        {
          "output_type": "stream",
          "name": "stderr",
          "text": [
            "\n"
          ]
        },
        {
          "output_type": "stream",
          "name": "stdout",
          "text": [
            "\n",
            "      Epoch    GPU_mem   box_loss   cls_loss   dfl_loss  Instances       Size\n"
          ]
        },
        {
          "output_type": "stream",
          "name": "stderr",
          "text": [
            "      38/50        12G       1.71      1.416      1.168        667        640: 100%|██████████| 130/130 [01:46<00:00,  1.22it/s]\n",
            "                 Class     Images  Instances      Box(P          R      mAP50  mAP50-95): 100%|██████████| 7/7 [00:05<00:00,  1.36it/s]"
          ]
        },
        {
          "output_type": "stream",
          "name": "stdout",
          "text": [
            "                   all        199       8385      0.411      0.236      0.176     0.0936\n"
          ]
        },
        {
          "output_type": "stream",
          "name": "stderr",
          "text": [
            "\n"
          ]
        },
        {
          "output_type": "stream",
          "name": "stdout",
          "text": [
            "\n",
            "      Epoch    GPU_mem   box_loss   cls_loss   dfl_loss  Instances       Size\n"
          ]
        },
        {
          "output_type": "stream",
          "name": "stderr",
          "text": [
            "      39/50        13G        1.7      1.414      1.168        437        640: 100%|██████████| 130/130 [01:46<00:00,  1.22it/s]\n",
            "                 Class     Images  Instances      Box(P          R      mAP50  mAP50-95): 100%|██████████| 7/7 [00:05<00:00,  1.30it/s]"
          ]
        },
        {
          "output_type": "stream",
          "name": "stdout",
          "text": [
            "                   all        199       8385      0.383      0.215      0.168     0.0906\n"
          ]
        },
        {
          "output_type": "stream",
          "name": "stderr",
          "text": [
            "\n"
          ]
        },
        {
          "output_type": "stream",
          "name": "stdout",
          "text": [
            "\n",
            "      Epoch    GPU_mem   box_loss   cls_loss   dfl_loss  Instances       Size\n"
          ]
        },
        {
          "output_type": "stream",
          "name": "stderr",
          "text": [
            "      40/50      12.9G      1.692      1.382      1.164        492        640: 100%|██████████| 130/130 [01:47<00:00,  1.21it/s]\n",
            "                 Class     Images  Instances      Box(P          R      mAP50  mAP50-95): 100%|██████████| 7/7 [00:05<00:00,  1.37it/s]"
          ]
        },
        {
          "output_type": "stream",
          "name": "stdout",
          "text": [
            "                   all        199       8385      0.381      0.207      0.167     0.0873\n"
          ]
        },
        {
          "output_type": "stream",
          "name": "stderr",
          "text": [
            "\n"
          ]
        },
        {
          "output_type": "stream",
          "name": "stdout",
          "text": [
            "Closing dataloader mosaic\n",
            "\u001b[34m\u001b[1malbumentations: \u001b[0mBlur(p=0.01, blur_limit=(3, 7)), MedianBlur(p=0.01, blur_limit=(3, 7)), ToGray(p=0.01), CLAHE(p=0.01, clip_limit=(1, 4.0), tile_grid_size=(8, 8))\n",
            "\n",
            "      Epoch    GPU_mem   box_loss   cls_loss   dfl_loss  Instances       Size\n"
          ]
        },
        {
          "output_type": "stream",
          "name": "stderr",
          "text": [
            "      41/50      11.2G      1.671      1.388      1.209        295        640: 100%|██████████| 130/130 [01:52<00:00,  1.15it/s]\n",
            "                 Class     Images  Instances      Box(P          R      mAP50  mAP50-95): 100%|██████████| 7/7 [00:05<00:00,  1.38it/s]"
          ]
        },
        {
          "output_type": "stream",
          "name": "stdout",
          "text": [
            "                   all        199       8385      0.595      0.215      0.192      0.102\n"
          ]
        },
        {
          "output_type": "stream",
          "name": "stderr",
          "text": [
            "\n"
          ]
        },
        {
          "output_type": "stream",
          "name": "stdout",
          "text": [
            "\n",
            "      Epoch    GPU_mem   box_loss   cls_loss   dfl_loss  Instances       Size\n"
          ]
        },
        {
          "output_type": "stream",
          "name": "stderr",
          "text": [
            "      42/50        11G      1.659      1.358      1.191        500        640: 100%|██████████| 130/130 [01:44<00:00,  1.24it/s]\n",
            "                 Class     Images  Instances      Box(P          R      mAP50  mAP50-95): 100%|██████████| 7/7 [00:05<00:00,  1.29it/s]"
          ]
        },
        {
          "output_type": "stream",
          "name": "stdout",
          "text": [
            "                   all        199       8385      0.581      0.201      0.184     0.0989\n"
          ]
        },
        {
          "output_type": "stream",
          "name": "stderr",
          "text": [
            "\n"
          ]
        },
        {
          "output_type": "stream",
          "name": "stdout",
          "text": [
            "\n",
            "      Epoch    GPU_mem   box_loss   cls_loss   dfl_loss  Instances       Size\n"
          ]
        },
        {
          "output_type": "stream",
          "name": "stderr",
          "text": [
            "      43/50      11.1G      1.647      1.329      1.184        444        640: 100%|██████████| 130/130 [01:44<00:00,  1.24it/s]\n",
            "                 Class     Images  Instances      Box(P          R      mAP50  mAP50-95): 100%|██████████| 7/7 [00:05<00:00,  1.38it/s]"
          ]
        },
        {
          "output_type": "stream",
          "name": "stdout",
          "text": [
            "                   all        199       8385      0.424      0.207      0.198      0.108\n"
          ]
        },
        {
          "output_type": "stream",
          "name": "stderr",
          "text": [
            "\n"
          ]
        },
        {
          "output_type": "stream",
          "name": "stdout",
          "text": [
            "\n",
            "      Epoch    GPU_mem   box_loss   cls_loss   dfl_loss  Instances       Size\n"
          ]
        },
        {
          "output_type": "stream",
          "name": "stderr",
          "text": [
            "      44/50      11.1G      1.637      1.299      1.184        271        640: 100%|██████████| 130/130 [01:44<00:00,  1.25it/s]\n",
            "                 Class     Images  Instances      Box(P          R      mAP50  mAP50-95): 100%|██████████| 7/7 [00:05<00:00,  1.37it/s]"
          ]
        },
        {
          "output_type": "stream",
          "name": "stdout",
          "text": [
            "                   all        199       8385      0.582      0.208      0.181     0.0959\n"
          ]
        },
        {
          "output_type": "stream",
          "name": "stderr",
          "text": [
            "\n"
          ]
        },
        {
          "output_type": "stream",
          "name": "stdout",
          "text": [
            "\n",
            "      Epoch    GPU_mem   box_loss   cls_loss   dfl_loss  Instances       Size\n"
          ]
        },
        {
          "output_type": "stream",
          "name": "stderr",
          "text": [
            "      45/50      10.7G      1.624      1.299      1.186        275        640: 100%|██████████| 130/130 [01:44<00:00,  1.25it/s]\n",
            "                 Class     Images  Instances      Box(P          R      mAP50  mAP50-95): 100%|██████████| 7/7 [00:05<00:00,  1.30it/s]"
          ]
        },
        {
          "output_type": "stream",
          "name": "stdout",
          "text": [
            "                   all        199       8385      0.586      0.206      0.184     0.0984\n"
          ]
        },
        {
          "output_type": "stream",
          "name": "stderr",
          "text": [
            "\n"
          ]
        },
        {
          "output_type": "stream",
          "name": "stdout",
          "text": [
            "\n",
            "      Epoch    GPU_mem   box_loss   cls_loss   dfl_loss  Instances       Size\n"
          ]
        },
        {
          "output_type": "stream",
          "name": "stderr",
          "text": [
            "      46/50      11.2G      1.616      1.276      1.176        207        640: 100%|██████████| 130/130 [01:44<00:00,  1.25it/s]\n",
            "                 Class     Images  Instances      Box(P          R      mAP50  mAP50-95): 100%|██████████| 7/7 [00:05<00:00,  1.31it/s]"
          ]
        },
        {
          "output_type": "stream",
          "name": "stdout",
          "text": [
            "                   all        199       8385      0.581      0.201      0.182     0.0971\n"
          ]
        },
        {
          "output_type": "stream",
          "name": "stderr",
          "text": [
            "\n"
          ]
        },
        {
          "output_type": "stream",
          "name": "stdout",
          "text": [
            "\n",
            "      Epoch    GPU_mem   box_loss   cls_loss   dfl_loss  Instances       Size\n"
          ]
        },
        {
          "output_type": "stream",
          "name": "stderr",
          "text": [
            "      47/50      11.1G      1.606      1.241      1.171        467        640: 100%|██████████| 130/130 [01:44<00:00,  1.25it/s]\n",
            "                 Class     Images  Instances      Box(P          R      mAP50  mAP50-95): 100%|██████████| 7/7 [00:04<00:00,  1.41it/s]"
          ]
        },
        {
          "output_type": "stream",
          "name": "stdout",
          "text": [
            "                   all        199       8385      0.424      0.214      0.184     0.0994\n"
          ]
        },
        {
          "output_type": "stream",
          "name": "stderr",
          "text": [
            "\n"
          ]
        },
        {
          "output_type": "stream",
          "name": "stdout",
          "text": [
            "\n",
            "      Epoch    GPU_mem   box_loss   cls_loss   dfl_loss  Instances       Size\n"
          ]
        },
        {
          "output_type": "stream",
          "name": "stderr",
          "text": [
            "      48/50      11.3G      1.593      1.223      1.163        358        640: 100%|██████████| 130/130 [01:44<00:00,  1.24it/s]\n",
            "                 Class     Images  Instances      Box(P          R      mAP50  mAP50-95): 100%|██████████| 7/7 [00:05<00:00,  1.36it/s]"
          ]
        },
        {
          "output_type": "stream",
          "name": "stdout",
          "text": [
            "                   all        199       8385      0.589      0.206      0.179     0.0972\n"
          ]
        },
        {
          "output_type": "stream",
          "name": "stderr",
          "text": [
            "\n"
          ]
        },
        {
          "output_type": "stream",
          "name": "stdout",
          "text": [
            "\n",
            "      Epoch    GPU_mem   box_loss   cls_loss   dfl_loss  Instances       Size\n"
          ]
        },
        {
          "output_type": "stream",
          "name": "stderr",
          "text": [
            "      49/50      11.1G      1.584      1.212      1.165        288        640: 100%|██████████| 130/130 [01:44<00:00,  1.24it/s]\n",
            "                 Class     Images  Instances      Box(P          R      mAP50  mAP50-95): 100%|██████████| 7/7 [00:05<00:00,  1.38it/s]"
          ]
        },
        {
          "output_type": "stream",
          "name": "stdout",
          "text": [
            "                   all        199       8385      0.599      0.204      0.187        0.1\n"
          ]
        },
        {
          "output_type": "stream",
          "name": "stderr",
          "text": [
            "\n"
          ]
        },
        {
          "output_type": "stream",
          "name": "stdout",
          "text": [
            "\n",
            "      Epoch    GPU_mem   box_loss   cls_loss   dfl_loss  Instances       Size\n"
          ]
        },
        {
          "output_type": "stream",
          "name": "stderr",
          "text": [
            "      50/50      11.3G      1.579      1.185      1.152        277        640: 100%|██████████| 130/130 [01:44<00:00,  1.25it/s]\n",
            "                 Class     Images  Instances      Box(P          R      mAP50  mAP50-95): 100%|██████████| 7/7 [00:05<00:00,  1.38it/s]"
          ]
        },
        {
          "output_type": "stream",
          "name": "stdout",
          "text": [
            "                   all        199       8385      0.585      0.215      0.181     0.0985\n"
          ]
        },
        {
          "output_type": "stream",
          "name": "stderr",
          "text": [
            "\n"
          ]
        },
        {
          "output_type": "stream",
          "name": "stdout",
          "text": [
            "\n",
            "50 epochs completed in 1.658 hours.\n",
            "Optimizer stripped from runs/detect/train/weights/last.pt, 87.7MB\n",
            "Optimizer stripped from runs/detect/train/weights/best.pt, 87.7MB\n",
            "\n",
            "Validating runs/detect/train/weights/best.pt...\n",
            "Ultralytics YOLOv8.1.9 🚀 Python-3.10.12 torch-2.1.0+cu121 CUDA:0 (Tesla T4, 15102MiB)\n",
            "YOLOv8l summary (fused): 268 layers, 43611234 parameters, 0 gradients, 164.8 GFLOPs\n"
          ]
        },
        {
          "output_type": "stream",
          "name": "stderr",
          "text": [
            "                 Class     Images  Instances      Box(P          R      mAP50  mAP50-95): 100%|██████████| 7/7 [00:25<00:00,  3.64s/it]\n"
          ]
        },
        {
          "output_type": "stream",
          "name": "stdout",
          "text": [
            "                   all        199       8385      0.424      0.207      0.198      0.108\n",
            "             ESCA leaf        199        585      0.407      0.381      0.321      0.171\n",
            "               FD leaf        199       2572      0.432      0.275      0.283      0.153\n",
            "                 autre        199         11          1          0      0.106      0.065\n",
            "      confounding leaf        199       5007      0.415      0.331      0.293      0.152\n",
            "  facteur confondant -        199        191      0.289      0.251      0.186      0.106\n",
            "     symptomatic bunch        199         19          0          0          0          0\n",
            "Speed: 0.3ms preprocess, 17.8ms inference, 0.0ms loss, 26.5ms postprocess per image\n",
            "Results saved to \u001b[1mruns/detect/train\u001b[0m\n"
          ]
        }
      ]
    },
    {
      "cell_type": "code",
      "source": [
        "model_best = YOLO(\"/content/best_yolov8n.pt\")\n",
        "dir_test_images = \"/content/Grapevine-disease-detection-1/test/images\"\n",
        "test = model_best.predict(source = dir_test_images, conf = 0.55, save = True, save_txt = True)\n",
        "\n",
        "dir_predicted_images = \"/content/runs/detect/predict/*.jpg\"\n",
        "tested_images_paths = []\n",
        "\n",
        "for image in sorted(glob.iglob(dir_predicted_images)):\n",
        "  tested_images_paths.append(image)\n",
        "\n",
        "#for image in tested_images_paths:\n",
        "#  img = cv2.imread(image)\n",
        "#  cv2_imshow(img)"
      ],
      "metadata": {
        "id": "mlpf5hG1-nID"
      },
      "execution_count": null,
      "outputs": []
    },
    {
      "cell_type": "code",
      "source": [
        "model_best = YOLO(\"/content/best_yolov5n.pt\")\n",
        "dir_test_images = \"/content/Grapevine-disease-detection-1/test/images\"\n",
        "test = model_best.predict(source = dir_test_images, conf = 0.55, save = True, save_txt = True)\n",
        "\n",
        "dir_predicted_images = \"/content/runs/detect/predict/*.jpg\"\n",
        "tested_images_paths = []\n",
        "\n",
        "for image in sorted(glob.iglob(dir_predicted_images)):\n",
        "  tested_images_paths.append(image)\n",
        "\n",
        "#for image in tested_images_paths:\n",
        "#  img = cv2.imread(image)\n",
        "#  cv2_imshow(img)"
      ],
      "metadata": {
        "id": "4j_CgXhM-qei"
      },
      "execution_count": null,
      "outputs": []
    },
    {
      "cell_type": "code",
      "source": [
        "model_best = YOLO(\"/content/best_yolov8l.pt\")\n",
        "dir_test_images = \"/content/Grapevine-disease-detection-1/test/images\"\n",
        "test = model_best.predict(source = dir_test_images, conf = 0.55, save = True, save_txt = True)\n",
        "\n",
        "dir_predicted_images = \"/content/runs/detect/predict/*.jpg\"\n",
        "tested_images_paths = []\n",
        "\n",
        "for image in sorted(glob.iglob(dir_predicted_images)):\n",
        "  tested_images_paths.append(image)\n",
        "\n",
        "#for image in tested_images_paths:\n",
        "#  img = cv2.imread(image)\n",
        "#  cv2_imshow(img)"
      ],
      "metadata": {
        "id": "HNmM3zQn7SaF",
        "colab": {
          "base_uri": "https://localhost:8080/"
        },
        "outputId": "e433f4fd-6379-465d-9473-22365a70ac1c"
      },
      "execution_count": 26,
      "outputs": [
        {
          "output_type": "stream",
          "name": "stdout",
          "text": [
            "\n",
            "image 1/100 /content/Grapevine-disease-detection-1/test/images/im_00000-2-.rf.688b963eb03b57cee8fd3b56c069f1ce.jpg: 640x640 (no detections), 58.2ms\n",
            "image 2/100 /content/Grapevine-disease-detection-1/test/images/im_00002_jpg.rf.98638918fea413dd2ad50fd2de80a725.jpg: 640x640 (no detections), 47.9ms\n",
            "image 3/100 /content/Grapevine-disease-detection-1/test/images/im_00004_jpg.rf.f602e6916b4982150b6ecf525ece8337.jpg: 640x640 (no detections), 47.8ms\n",
            "image 4/100 /content/Grapevine-disease-detection-1/test/images/im_00006_jpg.rf.226409928f0b38862e896c81302baf6c.jpg: 640x640 1 FD leaf, 3 confounding leafs, 42.2ms\n",
            "image 5/100 /content/Grapevine-disease-detection-1/test/images/im_00007_jpg.rf.96ec18a2b5d2caaab580e4d99579d36e.jpg: 640x640 12 confounding leafs, 33.7ms\n",
            "image 6/100 /content/Grapevine-disease-detection-1/test/images/im_00009.rf.f82d97adb041425bbfb6dd04acbe6bf7.jpg: 640x640 10 confounding leafs, 33.9ms\n",
            "image 7/100 /content/Grapevine-disease-detection-1/test/images/im_00011_jpg.rf.66ff2347270ffe308abbcbb2715bfe96.jpg: 640x640 (no detections), 33.9ms\n",
            "image 8/100 /content/Grapevine-disease-detection-1/test/images/im_00012_jpg.rf.c7ed14b30ed686394aef884a4133d797.jpg: 640x640 1 FD leaf, 35.1ms\n",
            "image 9/100 /content/Grapevine-disease-detection-1/test/images/im_00013_jpg.rf.41e32955f4e3d0e008f9f1d701317e68.jpg: 640x640 2 FD leafs, 19 confounding leafs, 34.4ms\n",
            "image 10/100 /content/Grapevine-disease-detection-1/test/images/im_00014-2-.rf.8833d6b19cc2b1bbf5712d0a33b12936.jpg: 640x640 1 confounding leaf, 32.0ms\n",
            "image 11/100 /content/Grapevine-disease-detection-1/test/images/im_00014-2-_jpg.rf.83a6e95cb4f7ea99b1d341aeb75c4fde.jpg: 640x640 2 confounding leafs, 39.2ms\n",
            "image 12/100 /content/Grapevine-disease-detection-1/test/images/im_00015-3-.rf.b9cdc06bf49c2667b6a75393cef39d6c.jpg: 640x640 1 ESCA leaf, 35 confounding leafs, 39.5ms\n",
            "image 13/100 /content/Grapevine-disease-detection-1/test/images/im_00015_jpg.rf.a985bf8040ca5f2d5299d286988ff805.jpg: 640x640 (no detections), 31.7ms\n",
            "image 14/100 /content/Grapevine-disease-detection-1/test/images/im_00017-3-_jpg.rf.2819c5b70850ac7aef0003047c4b0ffa.jpg: 640x640 25 confounding leafs, 35.9ms\n",
            "image 15/100 /content/Grapevine-disease-detection-1/test/images/im_00018-2-.rf.2e12f141709fa03022558a7be7173ae3.jpg: 640x640 1 ESCA leaf, 16 FD leafs, 6 confounding leafs, 30.6ms\n",
            "image 16/100 /content/Grapevine-disease-detection-1/test/images/im_00021-2-_jpg.rf.3d78752fad5c718b3e93608858f8dc22.jpg: 640x640 (no detections), 32.7ms\n",
            "image 17/100 /content/Grapevine-disease-detection-1/test/images/im_00024-3-.rf.b2871db99ea0df88435587e51889df0f.jpg: 640x640 4 confounding leafs, 34.6ms\n",
            "image 18/100 /content/Grapevine-disease-detection-1/test/images/im_00024-3-_jpg.rf.eab19a2385e64fff397399323be784f5.jpg: 640x640 4 confounding leafs, 34.3ms\n",
            "image 19/100 /content/Grapevine-disease-detection-1/test/images/im_00024.rf.bc9618066b5c2fc610019b590b605c44.jpg: 640x640 1 ESCA leaf, 10 FD leafs, 1 confounding leaf, 32.8ms\n",
            "image 20/100 /content/Grapevine-disease-detection-1/test/images/im_00025-2-_jpg.rf.2e848edd2b64c2eef7fe2df4831e2b58.jpg: 640x640 3 confounding leafs, 32.2ms\n",
            "image 21/100 /content/Grapevine-disease-detection-1/test/images/im_00025-3-.rf.6b7f4a28277de4a83fc43e87d6cc7539.jpg: 640x640 2 FD leafs, 34.5ms\n",
            "image 22/100 /content/Grapevine-disease-detection-1/test/images/im_00025.rf.344459e41daed91c0bff33892f81a28c.jpg: 640x640 (no detections), 34.5ms\n",
            "image 23/100 /content/Grapevine-disease-detection-1/test/images/im_00025.rf.d6eff2bf7e08a2ce6e8dcf1ac8fac3f4.jpg: 640x640 20 FD leafs, 11 confounding leafs, 36.0ms\n",
            "image 24/100 /content/Grapevine-disease-detection-1/test/images/im_00026.rf.23c84322d724561dfe26b681e40e1647.jpg: 640x640 2 ESCA leafs, 20 confounding leafs, 2 facteur confondant -s, 32.8ms\n",
            "image 25/100 /content/Grapevine-disease-detection-1/test/images/im_00027_jpg.rf.d7f29bbbbdf01307d19253f00b28b58c.jpg: 640x640 7 confounding leafs, 31.4ms\n",
            "image 26/100 /content/Grapevine-disease-detection-1/test/images/im_00028_jpg.rf.b6ca7c3d4d1dadaa43168bbdacc78190.jpg: 640x640 2 FD leafs, 14 confounding leafs, 33.2ms\n",
            "image 27/100 /content/Grapevine-disease-detection-1/test/images/im_00029-2-_jpg.rf.c50a49e4298c3dfdaaf22be91816cf3b.jpg: 640x640 1 confounding leaf, 31.0ms\n",
            "image 28/100 /content/Grapevine-disease-detection-1/test/images/im_00030-2-_jpg.rf.c1ccdd5f74874f0865b6c09ba5ebda36.jpg: 640x640 (no detections), 35.4ms\n",
            "image 29/100 /content/Grapevine-disease-detection-1/test/images/im_00030_jpg.rf.a2099c4bbfe3523f7fe039563964be2a.jpg: 640x640 6 FD leafs, 1 confounding leaf, 35.8ms\n",
            "image 30/100 /content/Grapevine-disease-detection-1/test/images/im_00031.rf.88c364563a6ea5b5559d7997f989b941.jpg: 640x640 1 FD leaf, 34.3ms\n",
            "image 31/100 /content/Grapevine-disease-detection-1/test/images/im_00031_jpg.rf.979ef3e6914336859a85435097ff5598.jpg: 640x640 34 confounding leafs, 1 facteur confondant -, 35.0ms\n",
            "image 32/100 /content/Grapevine-disease-detection-1/test/images/im_00032-2-_jpg.rf.7f025aacfd45cd19898a6e0162447b6e.jpg: 640x640 17 confounding leafs, 31.3ms\n",
            "image 33/100 /content/Grapevine-disease-detection-1/test/images/im_00032_jpg.rf.b66f635658afd0487b097af8e159ab3f.jpg: 640x640 (no detections), 32.9ms\n",
            "image 34/100 /content/Grapevine-disease-detection-1/test/images/im_00033_jpg.rf.551ce6dfc507d60011cae0a8736c0428.jpg: 640x640 3 confounding leafs, 36.4ms\n",
            "image 35/100 /content/Grapevine-disease-detection-1/test/images/im_00033_jpg.rf.d74130f1352621b8631df405ade95335.jpg: 640x640 (no detections), 33.6ms\n",
            "image 36/100 /content/Grapevine-disease-detection-1/test/images/im_00034_jpg.rf.1ee265af3868933a60ac91ccb41c421c.jpg: 640x640 (no detections), 36.1ms\n",
            "image 37/100 /content/Grapevine-disease-detection-1/test/images/im_00035-2-.rf.e40ef5131415d8ee38e09d7f795b99c9.jpg: 640x640 12 FD leafs, 3 confounding leafs, 7 facteur confondant -s, 33.9ms\n",
            "image 38/100 /content/Grapevine-disease-detection-1/test/images/im_00035_jpg.rf.8bffb624cb2831174bf7425cb8128327.jpg: 640x640 (no detections), 33.4ms\n",
            "image 39/100 /content/Grapevine-disease-detection-1/test/images/im_00037-2-.rf.44ce028476db9ec86bf3cd1d39684995.jpg: 640x640 20 FD leafs, 35.9ms\n",
            "image 40/100 /content/Grapevine-disease-detection-1/test/images/im_00038-2-.rf.86b1607b2418cfaa2e6e3ce792325043.jpg: 640x640 16 confounding leafs, 1 facteur confondant -, 31.8ms\n",
            "image 41/100 /content/Grapevine-disease-detection-1/test/images/im_00038.rf.baa4e762b0f7795e2ee51f39e272505d.jpg: 640x640 7 FD leafs, 16 confounding leafs, 32.3ms\n",
            "image 42/100 /content/Grapevine-disease-detection-1/test/images/im_00038_jpg.rf.32cbe413870860ec2869985f8a190328.jpg: 640x640 (no detections), 33.7ms\n",
            "image 43/100 /content/Grapevine-disease-detection-1/test/images/im_00039-3-_jpg.rf.1392345d4d73d1116201324b42a7e67b.jpg: 640x640 (no detections), 36.1ms\n",
            "image 44/100 /content/Grapevine-disease-detection-1/test/images/im_00039.rf.98608125278d67b6748778c171051ad0.jpg: 640x640 1 ESCA leaf, 10 FD leafs, 9 confounding leafs, 34.4ms\n",
            "image 45/100 /content/Grapevine-disease-detection-1/test/images/im_00041-2-.rf.5eec1ab1106bc97e007b5b18d8d7ab2d.jpg: 640x640 (no detections), 33.4ms\n",
            "image 46/100 /content/Grapevine-disease-detection-1/test/images/im_00041-3-.rf.03880921315c653d898b4bf8c38bf53a.jpg: 640x640 6 ESCA leafs, 11 confounding leafs, 35.8ms\n",
            "image 47/100 /content/Grapevine-disease-detection-1/test/images/im_00041_jpg.rf.695515e79fcbf89876306e8982622a21.jpg: 640x640 (no detections), 33.0ms\n",
            "image 48/100 /content/Grapevine-disease-detection-1/test/images/im_00041_jpg.rf.d22dc68ce26190fbe09e00c07f626cd3.jpg: 640x640 (no detections), 36.1ms\n",
            "image 49/100 /content/Grapevine-disease-detection-1/test/images/im_00044_jpg.rf.31bea8e9b5f3784bbe6e39a35786b72c.jpg: 640x640 1 FD leaf, 34.2ms\n",
            "image 50/100 /content/Grapevine-disease-detection-1/test/images/im_00044_jpg.rf.6773fd4a007570d788097e99705f1106.jpg: 640x640 (no detections), 35.0ms\n",
            "image 51/100 /content/Grapevine-disease-detection-1/test/images/im_00047-2-.rf.faf6a0e17323bf48eb516ba8f176a885.jpg: 640x640 6 ESCA leafs, 25 FD leafs, 2 confounding leafs, 1 facteur confondant -, 36.2ms\n",
            "image 52/100 /content/Grapevine-disease-detection-1/test/images/im_00047-3-.rf.6fdd7cc1e18eca4b54944dbdc3dd8ed4.jpg: 640x640 5 confounding leafs, 11 facteur confondant -s, 32.6ms\n",
            "image 53/100 /content/Grapevine-disease-detection-1/test/images/im_00048-2-.rf.b7ee0a32b44aaa64ddba1c9288fdbe2d.jpg: 640x640 (no detections), 36.2ms\n",
            "image 54/100 /content/Grapevine-disease-detection-1/test/images/im_00048-2-_jpg.rf.e55d7fed4ff9a27e02511ada691eabaa.jpg: 640x640 6 ESCA leafs, 15 FD leafs, 34.5ms\n",
            "image 55/100 /content/Grapevine-disease-detection-1/test/images/im_00048_jpg.rf.a9ad14751e19711d5554f790ceb8820a.jpg: 640x640 (no detections), 32.7ms\n",
            "image 56/100 /content/Grapevine-disease-detection-1/test/images/im_00049_jpg.rf.6896d5aaeb6ffb316ecf93b4f03e337b.jpg: 640x640 (no detections), 36.0ms\n",
            "image 57/100 /content/Grapevine-disease-detection-1/test/images/im_00050-2-_jpg.rf.a3b8bac973827ab52500c23e98d63c32.jpg: 640x640 (no detections), 35.9ms\n",
            "image 58/100 /content/Grapevine-disease-detection-1/test/images/im_00051-2-_jpg.rf.f931323979c80f0877cb3efb9dfb4a94.jpg: 640x640 (no detections), 34.5ms\n",
            "image 59/100 /content/Grapevine-disease-detection-1/test/images/im_00052_jpg.rf.18773e3ff508791fc2689c26c0579417.jpg: 640x640 2 FD leafs, 18 confounding leafs, 35.1ms\n",
            "image 60/100 /content/Grapevine-disease-detection-1/test/images/im_00053.rf.a7fb98425f3477a440cf00649fff8eda.jpg: 640x640 1 confounding leaf, 32.7ms\n",
            "image 61/100 /content/Grapevine-disease-detection-1/test/images/im_00054-3-.rf.b10d4909ff7c07a3850e7ba647396710.jpg: 640x640 1 confounding leaf, 33.2ms\n",
            "image 62/100 /content/Grapevine-disease-detection-1/test/images/im_00056-2-.rf.683d322b330596e083debfa872d4573c.jpg: 640x640 2 confounding leafs, 34.9ms\n",
            "image 63/100 /content/Grapevine-disease-detection-1/test/images/im_00056-3-.rf.b741df1614d8f6baaab79e806f1800f6.jpg: 640x640 (no detections), 34.8ms\n",
            "image 64/100 /content/Grapevine-disease-detection-1/test/images/im_00061-2-.rf.22c3b3ad3fea1c0a435ca44edb19c657.jpg: 640x640 16 FD leafs, 1 confounding leaf, 35.5ms\n",
            "image 65/100 /content/Grapevine-disease-detection-1/test/images/im_00064-2-.rf.9fa871802fa6f7c7920daca6b1337727.jpg: 640x640 (no detections), 33.4ms\n",
            "image 66/100 /content/Grapevine-disease-detection-1/test/images/im_00066-2-.rf.876dd5243cb6487f65c10960456ac5dd.jpg: 640x640 2 ESCA leafs, 1 confounding leaf, 6 facteur confondant -s, 36.5ms\n",
            "image 67/100 /content/Grapevine-disease-detection-1/test/images/im_00067-2-.rf.dfa6c6a18eb3f2d13b639acb2f5f4408.jpg: 640x640 20 FD leafs, 14 confounding leafs, 4 facteur confondant -s, 33.9ms\n",
            "image 68/100 /content/Grapevine-disease-detection-1/test/images/im_00067-2-_jpg.rf.75beee7150062a66b69816196ee8aa1b.jpg: 640x640 19 FD leafs, 16 confounding leafs, 4 facteur confondant -s, 30.2ms\n",
            "image 69/100 /content/Grapevine-disease-detection-1/test/images/im_00069.rf.e4783e108860875b98b403a9cdffcfb6.jpg: 640x640 (no detections), 31.1ms\n",
            "image 70/100 /content/Grapevine-disease-detection-1/test/images/im_00070-2-.rf.0f38c760691200ae935a3e091599289e.jpg: 640x640 (no detections), 37.3ms\n",
            "image 71/100 /content/Grapevine-disease-detection-1/test/images/im_00072_jpg.rf.bb3c55d58085fa4f8165dc6e1e678a05.jpg: 640x640 (no detections), 35.8ms\n",
            "image 72/100 /content/Grapevine-disease-detection-1/test/images/im_00073-2-.rf.851b8eb53e77adf4392c7492bba490ac.jpg: 640x640 (no detections), 35.1ms\n",
            "image 73/100 /content/Grapevine-disease-detection-1/test/images/im_00074.rf.f925ea9c122caa49490a39f43a057fab.jpg: 640x640 5 confounding leafs, 35.1ms\n",
            "image 74/100 /content/Grapevine-disease-detection-1/test/images/im_00074_jpg.rf.cfb53ebcd124366fadfe4b712fa8d487.jpg: 640x640 1 ESCA leaf, 33.4ms\n",
            "image 75/100 /content/Grapevine-disease-detection-1/test/images/im_00075_jpg.rf.fb8bc70841621779a609a6d19a8c2104.jpg: 640x640 (no detections), 34.2ms\n",
            "image 76/100 /content/Grapevine-disease-detection-1/test/images/im_00081_jpg.rf.a02c0d1df7207e006513a2b44ab8a622.jpg: 640x640 (no detections), 34.7ms\n",
            "image 77/100 /content/Grapevine-disease-detection-1/test/images/im_00085-2-.rf.1811f5ca7892c7230614919f5358fd00.jpg: 640x640 1 confounding leaf, 35.2ms\n",
            "image 78/100 /content/Grapevine-disease-detection-1/test/images/im_00085_jpg.rf.98a48ae72a73dd122fe4c80046bc30b2.jpg: 640x640 (no detections), 35.0ms\n",
            "image 79/100 /content/Grapevine-disease-detection-1/test/images/im_00088.rf.070b663341b66eeeb4a096316e8e74fe.jpg: 640x640 (no detections), 36.0ms\n",
            "image 80/100 /content/Grapevine-disease-detection-1/test/images/im_00093_jpg.rf.fa76c1e91b08c021812d675ccc52380c.jpg: 640x640 (no detections), 34.8ms\n",
            "image 81/100 /content/Grapevine-disease-detection-1/test/images/im_00094.rf.056d1cec8a0aca1f4694f6332d666687.jpg: 640x640 (no detections), 34.5ms\n",
            "image 82/100 /content/Grapevine-disease-detection-1/test/images/im_00095-2-.rf.0fb1bd8e11683a6f3a0cc454df6e01ca.jpg: 640x640 1 confounding leaf, 35.9ms\n",
            "image 83/100 /content/Grapevine-disease-detection-1/test/images/im_00097_jpg.rf.ddccf170031b5b4b6f91d8588bb2cbd3.jpg: 640x640 1 ESCA leaf, 8 confounding leafs, 1 facteur confondant -, 35.7ms\n",
            "image 84/100 /content/Grapevine-disease-detection-1/test/images/im_00100.rf.75086204fa6c20f0e72bcf63e5894529.jpg: 640x640 (no detections), 34.2ms\n",
            "image 85/100 /content/Grapevine-disease-detection-1/test/images/im_00104_jpg.rf.cf0ac937c5d92344931bbda9ccc8e464.jpg: 640x640 (no detections), 36.4ms\n",
            "image 86/100 /content/Grapevine-disease-detection-1/test/images/im_00133_jpg.rf.48bc2e88f7feacb78eeca8154c6dbee7.jpg: 640x640 7 FD leafs, 13 confounding leafs, 36.3ms\n",
            "image 87/100 /content/Grapevine-disease-detection-1/test/images/im_00138_jpg.rf.832629f29a2a864d8bb16aebd822a9bf.jpg: 640x640 10 FD leafs, 21 confounding leafs, 32.4ms\n",
            "image 88/100 /content/Grapevine-disease-detection-1/test/images/im_00139_jpg.rf.d1bf2da9944ddbdd00687043db1a6df6.jpg: 640x640 7 FD leafs, 5 confounding leafs, 32.7ms\n",
            "image 89/100 /content/Grapevine-disease-detection-1/test/images/im_00146_jpg.rf.40b2f9de51f94b6e8a5ce896c6954e03.jpg: 640x640 20 FD leafs, 24 confounding leafs, 34.6ms\n",
            "image 90/100 /content/Grapevine-disease-detection-1/test/images/im_00170_jpg.rf.6a8c93b72ce5653056db28b062b641f3.jpg: 640x640 (no detections), 31.8ms\n",
            "image 91/100 /content/Grapevine-disease-detection-1/test/images/im_SB21_00021_jpg.rf.1bdd2cd5be545627ad9cd0231326d5ad.jpg: 640x640 29 confounding leafs, 35.3ms\n",
            "image 92/100 /content/Grapevine-disease-detection-1/test/images/im_SB21_00029_jpg.rf.13ac7c435f2cde69f9dddc6fedd4c70b.jpg: 640x640 16 ESCA leafs, 33 confounding leafs, 30.6ms\n",
            "image 93/100 /content/Grapevine-disease-detection-1/test/images/im_SB21_00033_jpg.rf.b1e28f0377ccc12b5198948684f26c3b.jpg: 640x640 5 ESCA leafs, 22 confounding leafs, 31.0ms\n",
            "image 94/100 /content/Grapevine-disease-detection-1/test/images/im_SB21_00041_jpg.rf.ab1ae530a8d10c54ef8ad5b66cde8b6f.jpg: 640x640 11 ESCA leafs, 15 confounding leafs, 30.7ms\n",
            "image 95/100 /content/Grapevine-disease-detection-1/test/images/im_SB21_00097_jpg.rf.86ccaef3c2a2e2e6bb5f98356bf4bfd4.jpg: 640x640 7 FD leafs, 24 confounding leafs, 31.6ms\n",
            "image 96/100 /content/Grapevine-disease-detection-1/test/images/im_SB21_00098_jpg.rf.77096937e0605b042bfee13a83d95a90.jpg: 640x640 3 ESCA leafs, 1 FD leaf, 26 confounding leafs, 30.9ms\n",
            "image 97/100 /content/Grapevine-disease-detection-1/test/images/im_SB21_00154_jpg.rf.c5e249319ddd90d3a0ab63779eba3a3f.jpg: 640x640 1 ESCA leaf, 2 FD leafs, 9 confounding leafs, 31.1ms\n",
            "image 98/100 /content/Grapevine-disease-detection-1/test/images/ima_00008.rf.0d71b8e19da637a4df1fabb939ae53c4.jpg: 640x640 (no detections), 31.8ms\n",
            "image 99/100 /content/Grapevine-disease-detection-1/test/images/ima_00034_jpg.rf.d4e7c2469274ae35854cb49ce00f5cae.jpg: 640x640 7 confounding leafs, 17 facteur confondant -s, 35.0ms\n",
            "image 100/100 /content/Grapevine-disease-detection-1/test/images/ima_00037_jpg.rf.4aef6636e3d1013631252c3537f90421.jpg: 640x640 6 confounding leafs, 3 facteur confondant -s, 31.0ms\n",
            "Speed: 1.6ms preprocess, 34.7ms inference, 1.1ms postprocess per image at shape (1, 3, 640, 640)\n",
            "Results saved to \u001b[1mruns/detect/predict5\u001b[0m\n",
            "61 labels saved to runs/detect/predict5/labels\n"
          ]
        }
      ]
    },
    {
      "cell_type": "code",
      "source": [
        "from matplotlib import pyplot as plot\n",
        "\n",
        "thresholds = [0.5, 0.55, 0.6, 0.65, 0.7, 0.75, 0.8, 0.85, 0.9, 0.95]\n",
        "threshold = 0.5\n",
        "count_list = []\n",
        "\n",
        "for threshold in thresholds:\n",
        "\n",
        "  results = model_best(\"/content/Grapevine-disease-detection-1/test/images/im_00006_jpg.rf.226409928f0b38862e896c81302baf6c.jpg\", conf = threshold)\n",
        "  class_names = [\"ESCA\", \"FD\", \"autre\", \"confouding leaf\", \"facteur confondant\", \"symptomatic bunch\"]\n",
        "\n",
        "  for result in results:\n",
        "    count = 0\n",
        "    num_box = result.boxes\n",
        "    cls = num_box.cls.tolist()\n",
        "\n",
        "    print(cls)\n",
        "    for class_index in cls:\n",
        "        class_name = class_names[int(class_index)]\n",
        "        print(\"Class:\", class_name)\n",
        "        if class_name == \"FD\":\n",
        "          count = count + 1\n",
        "    print(\"Number of FD:\", count)\n",
        "    count_list.append(count)\n",
        "\n",
        "count_list"
      ],
      "metadata": {
        "colab": {
          "base_uri": "https://localhost:8080/"
        },
        "id": "reqJ684KssT3",
        "outputId": "71599924-11b2-42bc-91b0-31f1a1139190"
      },
      "execution_count": 27,
      "outputs": [
        {
          "output_type": "stream",
          "name": "stdout",
          "text": [
            "\n",
            "image 1/1 /content/Grapevine-disease-detection-1/test/images/im_00006_jpg.rf.226409928f0b38862e896c81302baf6c.jpg: 640x640 1 FD leaf, 4 confounding leafs, 63.0ms\n",
            "Speed: 2.0ms preprocess, 63.0ms inference, 1.3ms postprocess per image at shape (1, 3, 640, 640)\n",
            "Results saved to \u001b[1mruns/detect/predict5\u001b[0m\n",
            "61 labels saved to runs/detect/predict5/labels\n",
            "[3.0, 3.0, 1.0, 3.0, 3.0]\n",
            "Class: confouding leaf\n",
            "Class: confouding leaf\n",
            "Class: FD\n",
            "Class: confouding leaf\n",
            "Class: confouding leaf\n",
            "Number of FD: 1\n",
            "\n",
            "image 1/1 /content/Grapevine-disease-detection-1/test/images/im_00006_jpg.rf.226409928f0b38862e896c81302baf6c.jpg: 640x640 1 FD leaf, 3 confounding leafs, 62.7ms\n",
            "Speed: 1.4ms preprocess, 62.7ms inference, 1.1ms postprocess per image at shape (1, 3, 640, 640)\n",
            "Results saved to \u001b[1mruns/detect/predict5\u001b[0m\n",
            "61 labels saved to runs/detect/predict5/labels\n",
            "[3.0, 3.0, 1.0, 3.0]\n",
            "Class: confouding leaf\n",
            "Class: confouding leaf\n",
            "Class: FD\n",
            "Class: confouding leaf\n",
            "Number of FD: 1\n",
            "\n",
            "image 1/1 /content/Grapevine-disease-detection-1/test/images/im_00006_jpg.rf.226409928f0b38862e896c81302baf6c.jpg: 640x640 1 confounding leaf, 60.4ms\n",
            "Speed: 1.7ms preprocess, 60.4ms inference, 1.5ms postprocess per image at shape (1, 3, 640, 640)\n",
            "Results saved to \u001b[1mruns/detect/predict5\u001b[0m\n",
            "61 labels saved to runs/detect/predict5/labels\n",
            "[3.0]\n",
            "Class: confouding leaf\n",
            "Number of FD: 0\n",
            "\n",
            "image 1/1 /content/Grapevine-disease-detection-1/test/images/im_00006_jpg.rf.226409928f0b38862e896c81302baf6c.jpg: 640x640 (no detections), 39.8ms\n",
            "Speed: 1.6ms preprocess, 39.8ms inference, 0.7ms postprocess per image at shape (1, 3, 640, 640)\n",
            "Results saved to \u001b[1mruns/detect/predict5\u001b[0m\n",
            "61 labels saved to runs/detect/predict5/labels\n",
            "[]\n",
            "Number of FD: 0\n",
            "\n",
            "image 1/1 /content/Grapevine-disease-detection-1/test/images/im_00006_jpg.rf.226409928f0b38862e896c81302baf6c.jpg: 640x640 (no detections), 39.6ms\n",
            "Speed: 1.4ms preprocess, 39.6ms inference, 0.6ms postprocess per image at shape (1, 3, 640, 640)\n",
            "Results saved to \u001b[1mruns/detect/predict5\u001b[0m\n",
            "61 labels saved to runs/detect/predict5/labels\n",
            "[]\n",
            "Number of FD: 0\n",
            "\n",
            "image 1/1 /content/Grapevine-disease-detection-1/test/images/im_00006_jpg.rf.226409928f0b38862e896c81302baf6c.jpg: 640x640 (no detections), 39.8ms\n",
            "Speed: 1.3ms preprocess, 39.8ms inference, 0.5ms postprocess per image at shape (1, 3, 640, 640)\n",
            "Results saved to \u001b[1mruns/detect/predict5\u001b[0m\n",
            "61 labels saved to runs/detect/predict5/labels\n",
            "[]\n",
            "Number of FD: 0\n",
            "\n",
            "image 1/1 /content/Grapevine-disease-detection-1/test/images/im_00006_jpg.rf.226409928f0b38862e896c81302baf6c.jpg: 640x640 (no detections), 34.9ms\n",
            "Speed: 1.4ms preprocess, 34.9ms inference, 0.8ms postprocess per image at shape (1, 3, 640, 640)\n",
            "Results saved to \u001b[1mruns/detect/predict5\u001b[0m\n",
            "61 labels saved to runs/detect/predict5/labels\n",
            "[]\n",
            "Number of FD: 0\n",
            "\n",
            "image 1/1 /content/Grapevine-disease-detection-1/test/images/im_00006_jpg.rf.226409928f0b38862e896c81302baf6c.jpg: 640x640 (no detections), 35.1ms\n",
            "Speed: 1.6ms preprocess, 35.1ms inference, 0.6ms postprocess per image at shape (1, 3, 640, 640)\n",
            "Results saved to \u001b[1mruns/detect/predict5\u001b[0m\n",
            "61 labels saved to runs/detect/predict5/labels\n",
            "[]\n",
            "Number of FD: 0\n",
            "\n",
            "image 1/1 /content/Grapevine-disease-detection-1/test/images/im_00006_jpg.rf.226409928f0b38862e896c81302baf6c.jpg: 640x640 (no detections), 34.2ms\n",
            "Speed: 1.3ms preprocess, 34.2ms inference, 0.6ms postprocess per image at shape (1, 3, 640, 640)\n",
            "Results saved to \u001b[1mruns/detect/predict5\u001b[0m\n",
            "61 labels saved to runs/detect/predict5/labels\n",
            "[]\n",
            "Number of FD: 0\n",
            "\n",
            "image 1/1 /content/Grapevine-disease-detection-1/test/images/im_00006_jpg.rf.226409928f0b38862e896c81302baf6c.jpg: 640x640 (no detections), 35.7ms\n",
            "Speed: 1.2ms preprocess, 35.7ms inference, 0.6ms postprocess per image at shape (1, 3, 640, 640)\n",
            "Results saved to \u001b[1mruns/detect/predict5\u001b[0m\n",
            "61 labels saved to runs/detect/predict5/labels\n",
            "[]\n",
            "Number of FD: 0\n"
          ]
        },
        {
          "output_type": "execute_result",
          "data": {
            "text/plain": [
              "[1, 1, 0, 0, 0, 0, 0, 0, 0, 0]"
            ]
          },
          "metadata": {},
          "execution_count": 27
        }
      ]
    },
    {
      "cell_type": "code",
      "source": [
        "plot.plot(thresholds, count_list, marker='o')\n",
        "\n",
        "plot.ylabel(\"Number of FD leaves detected\")"
      ],
      "metadata": {
        "colab": {
          "base_uri": "https://localhost:8080/",
          "height": 447
        },
        "id": "1dQvw1ZEurUT",
        "outputId": "d62eeb33-b769-4221-c655-cda12702daa2"
      },
      "execution_count": 28,
      "outputs": [
        {
          "output_type": "execute_result",
          "data": {
            "text/plain": [
              "Text(0, 0.5, 'Number of FD leaves detected')"
            ]
          },
          "metadata": {},
          "execution_count": 28
        },
        {
          "output_type": "display_data",
          "data": {
            "text/plain": [
              "<Figure size 640x480 with 1 Axes>"
            ],
            "image/png": "[encoded data removed]"
          },
          "metadata": {}
        }
      ]
    },
    {
      "cell_type": "code",
      "source": [
        "!yolo task=detect mode=val split=test model=\"/content/best_yolov8l.pt\" data=\"/content/Grapevine-disease-detection-1/data.yaml\""
      ],
      "metadata": {
        "colab": {
          "base_uri": "https://localhost:8080/"
        },
        "id": "5-Dfadagv6gt",
        "outputId": "6b3be0cb-b114-46cb-8bd1-bed0cae79273"
      },
      "execution_count": 31,
      "outputs": [
        {
          "output_type": "stream",
          "name": "stdout",
          "text": [
            "Ultralytics YOLOv8.1.9 🚀 Python-3.10.12 torch-2.1.0+cu121 CUDA:0 (Tesla T4, 15102MiB)\n",
            "YOLOv8l summary (fused): 268 layers, 43611234 parameters, 0 gradients, 164.8 GFLOPs\n",
            "\u001b[34m\u001b[1mval: \u001b[0mScanning /content/Grapevine-disease-detection-1/test/labels.cache... 100 images, 0 backgrounds, 0 corrupt: 100% 100/100 [00:00<?, ?it/s]\n",
            "                 Class     Images  Instances      Box(P          R      mAP50  mAP50-95): 100% 7/7 [00:27<00:00,  3.95s/it]\n",
            "                   all        100       4033       0.39      0.224      0.177      0.102\n",
            "             ESCA leaf        100        307      0.249      0.277       0.19      0.103\n",
            "               FD leaf        100        881      0.327      0.268      0.197       0.11\n",
            "                 autre        100          4          1          0          0          0\n",
            "      confounding leaf        100       2612      0.407      0.427      0.344      0.181\n",
            "  facteur confondant -        100        214      0.355       0.37      0.334      0.218\n",
            "     symptomatic bunch        100         15          0          0          0          0\n",
            "Speed: 6.7ms preprocess, 43.5ms inference, 0.0ms loss, 44.3ms postprocess per image\n",
            "Results saved to \u001b[1mruns/detect/val4\u001b[0m\n",
            "💡 Learn more at https://docs.ultralytics.com/modes/val\n"
          ]
        }
      ]
    },
    {
      "cell_type": "code",
      "source": [
        "!yolo task=detect mode=val split=test model=\"/content/best_yolov8n.pt\" data=\"/content/Grapevine-disease-detection-1/data.yaml\""
      ],
      "metadata": {
        "id": "b8AJ3IQw-3Vq"
      },
      "execution_count": null,
      "outputs": []
    },
    {
      "cell_type": "code",
      "source": [
        "!yolo task=detect mode=val split=test model=\"/content/best_yolov5n.pt\" data=\"/content/Grapevine-disease-detection-1/data.yaml\""
      ],
      "metadata": {
        "id": "CiDcsfpw-5bW"
      },
      "execution_count": null,
      "outputs": []
    },
    {
      "cell_type": "code",
      "source": [
        "confusion_matrix_img = cv2.imread(\"/content/runs/detect/val4/confusion_matrix_normalized.png\", cv2.COLOR_BGR2RGB)\n",
        "cv2_imshow(confusion_matrix_img)"
      ],
      "metadata": {
        "colab": {
          "base_uri": "https://localhost:8080/",
          "height": 1000
        },
        "id": "JFE0uQvSwD7J",
        "outputId": "5f7980f3-c6b9-4dac-f0b0-67596a202205"
      },
      "execution_count": 32,
      "outputs": [
        {
          "output_type": "display_data",
          "data": {
            "text/plain": [
              "<PIL.Image.Image image mode=RGB size=3000x2250>"
            ],
            "image/png": "[encoded data removed]"
          },
          "metadata": {}
        }
      ]
    }
  ]
}